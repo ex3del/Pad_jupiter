{
 "cells": [
  {
   "cell_type": "code",
   "execution_count": 48,
   "metadata": {
    "collapsed": true,
    "id": "YVLilaJzjoKF"
   },
   "outputs": [],
   "source": [
    "import numpy as np\n",
    "import torch\n",
    "import torchvision\n",
    "import matplotlib.pyplot as plt\n",
    "import time\n",
    "from torchvision import datasets, transforms\n",
    "from torch import nn, optim\n",
    "from torch.utils.data import DataLoader\n",
    "import torch.nn as nn\n",
    "import torch.nn.functional as F"
   ]
  },
  {
   "cell_type": "code",
   "execution_count": 99,
   "outputs": [],
   "source": [
    "train_mnist = datasets.MNIST(r'C:\\Users\\777\\PycharmProjects\\uchuneyronki\\PATH_TO_STORE_TESTSET\\MNIST', train=True, download=True,\n",
    "                       transform=transforms.Compose([\n",
    "                           transforms.ToTensor()\n",
    "                       ]))\n",
    "test_mnist = datasets.MNIST(r'C:\\Users\\777\\PycharmProjects\\uchuneyronki\\PATH_TO_STORE_TESTSET\\MNIST', train=False, download=True,\n",
    "                       transform=transforms.Compose([\n",
    "                           transforms.ToTensor()\n",
    "                       ]))"
   ],
   "metadata": {
    "id": "6MduKyvEjoKL",
    "outputId": "56fc9707-e1a6-4e16-bbd8-58bc96d88391",
    "colab": {
     "base_uri": "https://localhost:8080/",
     "height": 423,
     "referenced_widgets": [
      "ebae8fede9a74fc589ea3150f15265a1",
      "5b39d5e3396e4586b6843bd32fc44443",
      "6b5c0d1125db4610a7fdf0d0c03c923b",
      "0b1dc0f17a2a4a2c805fc079c050eb29",
      "c71ec38aea434ccdbd49a209aac6d7cf",
      "47122f7e55b84fc5aa4dab644ede63c8",
      "0f2dd697d9b84052aeebcaec7ea7a09e",
      "005f6a82616e4429ae0c51ca2823b7ed",
      "08e2edd4178e4d7ba97ff8635aee2561",
      "592331f951be46169a0bc050a07d24d3",
      "e84fa70d86f24eb0a38d7f294d4df7a8",
      "1d7cd5efc77d478996ecc3d575531114",
      "a1882e6d81c442cda949903bf008ca82",
      "fd0a0957a8e64e3f8f8433ddb0531ff3",
      "b7b721a5f25f414fb972c2a2c15c8537",
      "5d462096f37c4f5bae3383712666da36",
      "a7fa5a400e3b4276923596c7bc4c91c6",
      "8700978f9daf41df9a9ae7af5c4df85f",
      "fe9e0f33aff2431caaef73b4204f53be",
      "ed64e2caad3d41e195a357d22dc179c6",
      "856a191c89e2495e96cb1a78fdb5cee2",
      "2c9c16c3d8514cc7ab54876ef84418ed",
      "eb998f657b4f4bc885ae15d50236a1a8",
      "17a845d1fae744a99dc8fc0bb0cedf6b",
      "0a0b8b2eb2434eb791ddf9149959c56c",
      "af7391b60a4b43519e8c87bde329fd08",
      "319487d24d0f460c9ed8aa40abb8a148",
      "20377af350ef40c3b049e8894fe74ffd",
      "0d55b93007a24d679f69a971e1b29a2e",
      "a1d97605fe224a71ae9d3012ad7fddea",
      "679ca870ec9641b99790979dde82b239",
      "5b37165e924d459b874cf1e6417ec6b6",
      "25129a8bfed544e9b5263119f6b29b84",
      "8d9c585004e349b081d9c7a8d8c4accf",
      "110ba9dca9564a33bb895974cffcc597",
      "fc9ec27df9a447098c669046b8deeb0b",
      "eb9498ecc6ab48d08413c988e0b9696c",
      "8fe19014ad854bfbabc9905d953f000b",
      "cab9aa8be5f54f6d877984d0e16f3f17",
      "f386250705a94a04b3a782a0bae2526e",
      "2fc98c1f1afc4ee2b6c8d5729f501626",
      "c592543e51a24e0998eb26c996999958",
      "c651fb5b0719496b92c682be31a47390",
      "e7f90b44baba4f21af22fc5a45b54add"
     ]
    }
   }
  },
  {
   "cell_type": "markdown",
   "source": [
    "# Параметры обучения FCN MLP"
   ],
   "metadata": {
    "collapsed": false
   }
  },
  {
   "cell_type": "code",
   "execution_count": 100,
   "outputs": [
    {
     "name": "stdout",
     "output_type": "stream",
     "text": [
      "Using cuda device\n"
     ]
    }
   ],
   "source": [
    "num_epochs = 10\n",
    "batch_size = 32\n",
    "learning_rate = 1e-3\n",
    "device = \"cuda\" if torch.cuda.is_available() else \"cpu\"\n",
    "print(f\"Using {device} device\")"
   ],
   "metadata": {
    "collapsed": false
   }
  },
  {
   "cell_type": "code",
   "execution_count": 50,
   "outputs": [],
   "source": [
    "train_dataloader = DataLoader(train_mnist, batch_size=batch_size, shuffle=True)\n",
    "test_dataloader = DataLoader(test_mnist, batch_size=batch_size, shuffle=False)"
   ],
   "metadata": {
    "id": "WKgLL53tjoKN"
   }
  },
  {
   "cell_type": "code",
   "execution_count": 11,
   "outputs": [
    {
     "name": "stdout",
     "output_type": "stream",
     "text": [
      "[tensor([[[[0., 0., 0.,  ..., 0., 0., 0.],\n",
      "          [0., 0., 0.,  ..., 0., 0., 0.],\n",
      "          [0., 0., 0.,  ..., 0., 0., 0.],\n",
      "          ...,\n",
      "          [0., 0., 0.,  ..., 0., 0., 0.],\n",
      "          [0., 0., 0.,  ..., 0., 0., 0.],\n",
      "          [0., 0., 0.,  ..., 0., 0., 0.]]],\n",
      "\n",
      "\n",
      "        [[[0., 0., 0.,  ..., 0., 0., 0.],\n",
      "          [0., 0., 0.,  ..., 0., 0., 0.],\n",
      "          [0., 0., 0.,  ..., 0., 0., 0.],\n",
      "          ...,\n",
      "          [0., 0., 0.,  ..., 0., 0., 0.],\n",
      "          [0., 0., 0.,  ..., 0., 0., 0.],\n",
      "          [0., 0., 0.,  ..., 0., 0., 0.]]],\n",
      "\n",
      "\n",
      "        [[[0., 0., 0.,  ..., 0., 0., 0.],\n",
      "          [0., 0., 0.,  ..., 0., 0., 0.],\n",
      "          [0., 0., 0.,  ..., 0., 0., 0.],\n",
      "          ...,\n",
      "          [0., 0., 0.,  ..., 0., 0., 0.],\n",
      "          [0., 0., 0.,  ..., 0., 0., 0.],\n",
      "          [0., 0., 0.,  ..., 0., 0., 0.]]],\n",
      "\n",
      "\n",
      "        ...,\n",
      "\n",
      "\n",
      "        [[[0., 0., 0.,  ..., 0., 0., 0.],\n",
      "          [0., 0., 0.,  ..., 0., 0., 0.],\n",
      "          [0., 0., 0.,  ..., 0., 0., 0.],\n",
      "          ...,\n",
      "          [0., 0., 0.,  ..., 0., 0., 0.],\n",
      "          [0., 0., 0.,  ..., 0., 0., 0.],\n",
      "          [0., 0., 0.,  ..., 0., 0., 0.]]],\n",
      "\n",
      "\n",
      "        [[[0., 0., 0.,  ..., 0., 0., 0.],\n",
      "          [0., 0., 0.,  ..., 0., 0., 0.],\n",
      "          [0., 0., 0.,  ..., 0., 0., 0.],\n",
      "          ...,\n",
      "          [0., 0., 0.,  ..., 0., 0., 0.],\n",
      "          [0., 0., 0.,  ..., 0., 0., 0.],\n",
      "          [0., 0., 0.,  ..., 0., 0., 0.]]],\n",
      "\n",
      "\n",
      "        [[[0., 0., 0.,  ..., 0., 0., 0.],\n",
      "          [0., 0., 0.,  ..., 0., 0., 0.],\n",
      "          [0., 0., 0.,  ..., 0., 0., 0.],\n",
      "          ...,\n",
      "          [0., 0., 0.,  ..., 0., 0., 0.],\n",
      "          [0., 0., 0.,  ..., 0., 0., 0.],\n",
      "          [0., 0., 0.,  ..., 0., 0., 0.]]]]), tensor([8, 5, 0, 2, 0, 7, 9, 8, 5, 7, 6, 1, 7, 5, 2, 1, 3, 0, 9, 2, 9, 9, 4, 5,\n",
      "        9, 7, 3, 8, 9, 8, 8, 5])]\n"
     ]
    }
   ],
   "source": [
    "for data in train_dataloader:\n",
    "    print(data)\n",
    "    break"
   ],
   "metadata": {
    "id": "EvVFHghTjoKS",
    "outputId": "82d0723e-398e-4118-cad0-c7f667440712",
    "colab": {
     "base_uri": "https://localhost:8080/"
    }
   }
  },
  {
   "cell_type": "markdown",
   "source": [
    "Батч из 32ух пар тензоров, где в первые-яркости пикселей, а вторые- метки"
   ],
   "metadata": {
    "collapsed": false
   }
  },
  {
   "cell_type": "code",
   "execution_count": 18,
   "outputs": [
    {
     "name": "stdout",
     "output_type": "stream",
     "text": [
      "Количество картинок в обучающей выборке: 60000\n",
      "Количество картинок в тестовой выборке: 10000\n"
     ]
    }
   ],
   "source": [
    "print('Количество картинок в обучающей выборке:', sum([1 for data in train_mnist]))\n",
    "print('Количество картинок в тестовой выборке:', sum([1 for data in test_mnist]))"
   ],
   "metadata": {
    "id": "ZmXT1DuHjoKT",
    "outputId": "685aeb24-2ea8-4d67-9807-09a4ba813b99",
    "colab": {
     "base_uri": "https://localhost:8080/"
    }
   }
  },
  {
   "cell_type": "code",
   "execution_count": 19,
   "outputs": [],
   "source": [
    "X, y = data[0][0], data[1][0]"
   ],
   "metadata": {
    "id": "peBQCGrdjoKU"
   }
  },
  {
   "cell_type": "code",
   "execution_count": 20,
   "outputs": [
    {
     "name": "stdout",
     "output_type": "stream",
     "text": [
      "tensor([[[0.0000, 0.0000, 0.0000, 0.0000, 0.0000, 0.0000, 0.0000, 0.0000,\n",
      "          0.0000, 0.0000, 0.0000, 0.0000, 0.0000, 0.0000, 0.0000, 0.0000,\n",
      "          0.0000, 0.0000, 0.0000, 0.0000, 0.0000, 0.0000, 0.0000, 0.0000,\n",
      "          0.0000, 0.0000, 0.0000, 0.0000],\n",
      "         [0.0000, 0.0000, 0.0000, 0.0000, 0.0000, 0.0000, 0.0000, 0.0000,\n",
      "          0.0000, 0.0000, 0.0000, 0.0000, 0.0000, 0.0000, 0.0000, 0.0000,\n",
      "          0.0000, 0.0000, 0.0000, 0.0000, 0.0000, 0.0000, 0.0000, 0.0000,\n",
      "          0.0000, 0.0000, 0.0000, 0.0000],\n",
      "         [0.0000, 0.0000, 0.0000, 0.0000, 0.0000, 0.0000, 0.0000, 0.0000,\n",
      "          0.0000, 0.0000, 0.0000, 0.0000, 0.0000, 0.0000, 0.0000, 0.0000,\n",
      "          0.0000, 0.0000, 0.0000, 0.0000, 0.0000, 0.0000, 0.0000, 0.0000,\n",
      "          0.0000, 0.0000, 0.0000, 0.0000],\n",
      "         [0.0000, 0.0000, 0.0000, 0.0000, 0.0000, 0.0000, 0.0000, 0.0000,\n",
      "          0.0000, 0.0000, 0.0000, 0.0000, 0.0000, 0.0000, 0.0000, 0.0000,\n",
      "          0.0000, 0.0000, 0.0000, 0.0000, 0.0000, 0.0000, 0.0000, 0.0000,\n",
      "          0.0000, 0.0000, 0.0000, 0.0000],\n",
      "         [0.0000, 0.0000, 0.0000, 0.0000, 0.0000, 0.0000, 0.0000, 0.0000,\n",
      "          0.0000, 0.0000, 0.0000, 0.0000, 0.0000, 0.0000, 0.0000, 0.0000,\n",
      "          0.0000, 0.0000, 0.0000, 0.0000, 0.0000, 0.0000, 0.0000, 0.0000,\n",
      "          0.0000, 0.0000, 0.0000, 0.0000],\n",
      "         [0.0000, 0.0000, 0.0000, 0.0000, 0.0000, 0.0000, 0.0000, 0.0000,\n",
      "          0.0000, 0.0000, 0.0000, 0.0000, 0.0000, 0.0000, 0.0824, 0.4353,\n",
      "          0.5882, 0.9255, 0.4510, 0.2353, 0.5882, 0.7922, 1.0000, 0.4667,\n",
      "          0.0706, 0.0000, 0.0000, 0.0000],\n",
      "         [0.0000, 0.0000, 0.0000, 0.0000, 0.0000, 0.0000, 0.0000, 0.0000,\n",
      "          0.0000, 0.0000, 0.0000, 0.0000, 0.0235, 0.4706, 0.8667, 0.9922,\n",
      "          0.9922, 0.9922, 0.9922, 0.9922, 0.9922, 0.9922, 0.9922, 0.9922,\n",
      "          0.3647, 0.0000, 0.0000, 0.0000],\n",
      "         [0.0000, 0.0000, 0.0000, 0.0000, 0.0000, 0.0000, 0.0000, 0.0000,\n",
      "          0.0000, 0.0000, 0.0157, 0.4275, 0.9098, 0.9922, 0.9255, 0.4471,\n",
      "          0.4471, 0.7020, 0.9922, 0.8667, 0.4471, 0.9412, 0.9922, 0.9725,\n",
      "          0.1647, 0.0000, 0.0000, 0.0000],\n",
      "         [0.0000, 0.0000, 0.0000, 0.0000, 0.0000, 0.0000, 0.0000, 0.0000,\n",
      "          0.0000, 0.0000, 0.2392, 0.9922, 0.9922, 0.7804, 0.2157, 0.0000,\n",
      "          0.0000, 0.2980, 0.4392, 0.1255, 0.3608, 0.9686, 0.9922, 0.6863,\n",
      "          0.0000, 0.0000, 0.0000, 0.0000],\n",
      "         [0.0000, 0.0000, 0.0000, 0.0000, 0.0000, 0.0000, 0.0000, 0.0000,\n",
      "          0.0000, 0.1686, 0.9255, 0.9922, 0.5451, 0.1686, 0.0000, 0.0000,\n",
      "          0.1608, 0.4980, 0.1569, 0.5333, 0.9725, 0.9843, 0.6157, 0.0706,\n",
      "          0.0000, 0.0000, 0.0000, 0.0000],\n",
      "         [0.0000, 0.0000, 0.0000, 0.0000, 0.0000, 0.0000, 0.0000, 0.0000,\n",
      "          0.0000, 0.3294, 0.9922, 0.9137, 0.0863, 0.0000, 0.0000, 0.0000,\n",
      "          0.0000, 0.2902, 0.6980, 0.9922, 0.9922, 0.5098, 0.0000, 0.0000,\n",
      "          0.0000, 0.0000, 0.0000, 0.0000],\n",
      "         [0.0000, 0.0000, 0.0000, 0.0000, 0.0000, 0.0000, 0.0000, 0.0000,\n",
      "          0.0000, 0.4941, 0.9922, 0.5569, 0.0078, 0.0000, 0.0000, 0.0000,\n",
      "          0.3765, 0.9373, 0.9922, 0.9098, 0.4039, 0.0118, 0.0000, 0.0000,\n",
      "          0.0000, 0.0000, 0.0000, 0.0000],\n",
      "         [0.0000, 0.0000, 0.0000, 0.0000, 0.0000, 0.0000, 0.0000, 0.0000,\n",
      "          0.0000, 0.4275, 0.9922, 0.9255, 0.0902, 0.0000, 0.2078, 0.4980,\n",
      "          0.9255, 0.9529, 0.6078, 0.1608, 0.0000, 0.0000, 0.0000, 0.0000,\n",
      "          0.0000, 0.0000, 0.0000, 0.0000],\n",
      "         [0.0000, 0.0000, 0.0000, 0.0000, 0.0000, 0.0000, 0.0000, 0.0000,\n",
      "          0.0000, 0.1176, 0.9216, 0.9490, 0.6431, 0.2627, 0.9020, 0.9922,\n",
      "          0.9843, 0.4824, 0.0000, 0.0000, 0.0000, 0.0000, 0.0000, 0.0000,\n",
      "          0.0000, 0.0000, 0.0000, 0.0000],\n",
      "         [0.0000, 0.0000, 0.0000, 0.0000, 0.0000, 0.0000, 0.0000, 0.0000,\n",
      "          0.0000, 0.0000, 0.3451, 0.9922, 0.9922, 0.9922, 0.9882, 0.7059,\n",
      "          0.2353, 0.0000, 0.0000, 0.0000, 0.0000, 0.0000, 0.0000, 0.0000,\n",
      "          0.0000, 0.0000, 0.0000, 0.0000],\n",
      "         [0.0000, 0.0000, 0.0000, 0.0000, 0.0000, 0.0000, 0.0000, 0.0000,\n",
      "          0.0000, 0.0000, 0.1451, 0.8745, 0.9922, 0.9922, 0.4824, 0.0000,\n",
      "          0.0000, 0.0000, 0.0000, 0.0000, 0.0000, 0.0000, 0.0000, 0.0000,\n",
      "          0.0000, 0.0000, 0.0000, 0.0000],\n",
      "         [0.0000, 0.0000, 0.0000, 0.0000, 0.0000, 0.0000, 0.0000, 0.0000,\n",
      "          0.0000, 0.0549, 0.4157, 0.9882, 0.9922, 0.9922, 0.8118, 0.2235,\n",
      "          0.0000, 0.0000, 0.0000, 0.0000, 0.0000, 0.0000, 0.0000, 0.0000,\n",
      "          0.0000, 0.0000, 0.0000, 0.0000],\n",
      "         [0.0000, 0.0000, 0.0000, 0.0000, 0.0000, 0.0000, 0.0000, 0.0000,\n",
      "          0.1098, 0.8314, 0.9922, 0.7765, 0.2667, 0.8745, 0.9922, 0.5255,\n",
      "          0.0000, 0.0000, 0.0000, 0.0000, 0.0000, 0.0000, 0.0000, 0.0000,\n",
      "          0.0000, 0.0000, 0.0000, 0.0000],\n",
      "         [0.0000, 0.0000, 0.0000, 0.0000, 0.0000, 0.0000, 0.0000, 0.1529,\n",
      "          0.7569, 0.9922, 0.6784, 0.0431, 0.0000, 0.4078, 0.9725, 0.9804,\n",
      "          0.2392, 0.0000, 0.0000, 0.0000, 0.0000, 0.0000, 0.0000, 0.0000,\n",
      "          0.0000, 0.0000, 0.0000, 0.0000],\n",
      "         [0.0000, 0.0000, 0.0000, 0.0000, 0.0000, 0.0000, 0.0000, 0.2667,\n",
      "          0.9843, 0.8941, 0.1725, 0.0000, 0.0000, 0.0000, 0.8353, 0.9922,\n",
      "          0.8824, 0.0118, 0.0000, 0.0000, 0.0000, 0.0000, 0.0000, 0.0000,\n",
      "          0.0000, 0.0000, 0.0000, 0.0000],\n",
      "         [0.0000, 0.0000, 0.0000, 0.0000, 0.0000, 0.0000, 0.0000, 0.5333,\n",
      "          0.9922, 0.5020, 0.0000, 0.0000, 0.0000, 0.0000, 0.6353, 0.9922,\n",
      "          0.8353, 0.0118, 0.0000, 0.0000, 0.0000, 0.0000, 0.0000, 0.0000,\n",
      "          0.0000, 0.0000, 0.0000, 0.0000],\n",
      "         [0.0000, 0.0000, 0.0000, 0.0000, 0.0000, 0.0000, 0.0000, 0.2706,\n",
      "          0.9843, 0.7529, 0.1294, 0.0000, 0.0000, 0.0000, 0.1529, 0.9922,\n",
      "          0.9922, 0.0196, 0.0000, 0.0000, 0.0000, 0.0000, 0.0000, 0.0000,\n",
      "          0.0000, 0.0000, 0.0000, 0.0000],\n",
      "         [0.0000, 0.0000, 0.0000, 0.0000, 0.0000, 0.0000, 0.0000, 0.0000,\n",
      "          0.9412, 0.9922, 0.8824, 0.3333, 0.0431, 0.1451, 0.4627, 0.9922,\n",
      "          0.9922, 0.2039, 0.0000, 0.0000, 0.0000, 0.0000, 0.0000, 0.0000,\n",
      "          0.0000, 0.0000, 0.0000, 0.0000],\n",
      "         [0.0000, 0.0000, 0.0000, 0.0000, 0.0000, 0.0000, 0.0000, 0.0000,\n",
      "          0.2039, 0.7373, 0.9922, 0.9922, 0.9922, 0.9922, 0.9922, 0.9922,\n",
      "          0.9922, 0.1686, 0.0000, 0.0000, 0.0000, 0.0000, 0.0000, 0.0000,\n",
      "          0.0000, 0.0000, 0.0000, 0.0000],\n",
      "         [0.0000, 0.0000, 0.0000, 0.0000, 0.0000, 0.0000, 0.0000, 0.0000,\n",
      "          0.0000, 0.0627, 0.3922, 0.7020, 0.9922, 0.9922, 0.8196, 0.5843,\n",
      "          0.2627, 0.0039, 0.0000, 0.0000, 0.0000, 0.0000, 0.0000, 0.0000,\n",
      "          0.0000, 0.0000, 0.0000, 0.0000],\n",
      "         [0.0000, 0.0000, 0.0000, 0.0000, 0.0000, 0.0000, 0.0000, 0.0000,\n",
      "          0.0000, 0.0000, 0.0000, 0.0000, 0.0000, 0.0000, 0.0000, 0.0000,\n",
      "          0.0000, 0.0000, 0.0000, 0.0000, 0.0000, 0.0000, 0.0000, 0.0000,\n",
      "          0.0000, 0.0000, 0.0000, 0.0000],\n",
      "         [0.0000, 0.0000, 0.0000, 0.0000, 0.0000, 0.0000, 0.0000, 0.0000,\n",
      "          0.0000, 0.0000, 0.0000, 0.0000, 0.0000, 0.0000, 0.0000, 0.0000,\n",
      "          0.0000, 0.0000, 0.0000, 0.0000, 0.0000, 0.0000, 0.0000, 0.0000,\n",
      "          0.0000, 0.0000, 0.0000, 0.0000],\n",
      "         [0.0000, 0.0000, 0.0000, 0.0000, 0.0000, 0.0000, 0.0000, 0.0000,\n",
      "          0.0000, 0.0000, 0.0000, 0.0000, 0.0000, 0.0000, 0.0000, 0.0000,\n",
      "          0.0000, 0.0000, 0.0000, 0.0000, 0.0000, 0.0000, 0.0000, 0.0000,\n",
      "          0.0000, 0.0000, 0.0000, 0.0000]]]) tensor(8)\n"
     ]
    }
   ],
   "source": [
    "print(X, y)"
   ],
   "metadata": {
    "id": "EFhdljH1joKU",
    "outputId": "edfd4f11-729d-4724-8b8e-0a62f368ed35",
    "colab": {
     "base_uri": "https://localhost:8080/"
    }
   }
  },
  {
   "cell_type": "code",
   "execution_count": 24,
   "outputs": [
    {
     "data": {
      "text/plain": "Text(0.5, 1.0, 'tensor(8)')"
     },
     "execution_count": 24,
     "metadata": {},
     "output_type": "execute_result"
    },
    {
     "data": {
      "text/plain": "<Figure size 640x480 with 1 Axes>",
      "image/png": "[encoded data removed]"
     },
     "metadata": {},
     "output_type": "display_data"
    }
   ],
   "source": [
    "plt.imshow(X.view(28, 28), cmap='gray_r')\n",
    "plt.title(y)"
   ],
   "metadata": {
    "id": "LNj3iylejoKV",
    "outputId": "01418b8e-25d1-431e-a198-607f450bb32b",
    "colab": {
     "base_uri": "https://localhost:8080/",
     "height": 282
    }
   }
  },
  {
   "cell_type": "code",
   "execution_count": 26,
   "outputs": [
    {
     "data": {
      "text/plain": "<Figure size 640x480 with 9 Axes>",
      "image/png": "[encoded data removed]"
     },
     "metadata": {},
     "output_type": "display_data"
    },
    {
     "data": {
      "text/plain": "<Figure size 640x480 with 9 Axes>",
      "image/png": "[encoded data removed]"
     },
     "metadata": {},
     "output_type": "display_data"
    },
    {
     "data": {
      "text/plain": "<Figure size 640x480 with 9 Axes>",
      "image/png": "[encoded data removed]"
     },
     "metadata": {},
     "output_type": "display_data"
    },
    {
     "data": {
      "text/plain": "<Figure size 640x480 with 9 Axes>",
      "image/png": "[encoded data removed]"
     },
     "metadata": {},
     "output_type": "display_data"
    },
    {
     "data": {
      "text/plain": "<Figure size 640x480 with 9 Axes>",
      "image/png": "[encoded data removed]"
     },
     "metadata": {},
     "output_type": "display_data"
    },
    {
     "data": {
      "text/plain": "<Figure size 640x480 with 9 Axes>",
      "image/png": "[encoded data removed]"
     },
     "metadata": {},
     "output_type": "display_data"
    }
   ],
   "source": [
    "for _ in range(6):\n",
    "    images, labels = next(iter(train_dataloader))\n",
    "    figure = plt.figure()\n",
    "    for index in range(1, 10):\n",
    "        plt.subplot(1, 10, index)\n",
    "        plt.axis('off')\n",
    "        plt.imshow(images[index].numpy().squeeze(), cmap='gray_r')"
   ],
   "metadata": {
    "id": "Ksx9FZGajoKW",
    "outputId": "41f80b8a-ead9-46ef-f533-1c381947bdf9",
    "colab": {
     "base_uri": "https://localhost:8080/",
     "height": 269
    }
   }
  },
  {
   "cell_type": "code",
   "execution_count": 28,
   "outputs": [
    {
     "name": "stdout",
     "output_type": "stream",
     "text": [
      "{0: 5923, 1: 6742, 2: 5958, 3: 6131, 4: 5842, 5: 5421, 6: 5918, 7: 6265, 8: 5851, 9: 5949}\n",
      "Процентоное соотношение цифры 0 от общего кол-ва цифр: 9.871666666666666%\n",
      "Процентоное соотношение цифры 1 от общего кол-ва цифр: 11.236666666666666%\n",
      "Процентоное соотношение цифры 2 от общего кол-ва цифр: 9.93%\n",
      "Процентоное соотношение цифры 3 от общего кол-ва цифр: 10.218333333333334%\n",
      "Процентоное соотношение цифры 4 от общего кол-ва цифр: 9.736666666666666%\n",
      "Процентоное соотношение цифры 5 от общего кол-ва цифр: 9.035%\n",
      "Процентоное соотношение цифры 6 от общего кол-ва цифр: 9.863333333333333%\n",
      "Процентоное соотношение цифры 7 от общего кол-ва цифр: 10.441666666666666%\n",
      "Процентоное соотношение цифры 8 от общего кол-ва цифр: 9.751666666666667%\n",
      "Процентоное соотношение цифры 9 от общего кол-ва цифр: 9.915%\n"
     ]
    },
    {
     "data": {
      "text/plain": "<Figure size 640x480 with 1 Axes>",
      "image/png": "[encoded data removed]"
     },
     "metadata": {},
     "output_type": "display_data"
    }
   ],
   "source": [
    "total = 0\n",
    "dic_count = {int(i): 0 for i in range(10)}\n",
    "for dat in train_dataloader:\n",
    "    tens, mark = dat\n",
    "    for y in mark:\n",
    "        dic_count[int(y)] += 1\n",
    "        total += 1\n",
    "print(dic_count)\n",
    "for k, v in dic_count.items():\n",
    "    print(f'Процентоное соотношение цифры {k} от общего кол-ва цифр: {v*100/total}%')\n",
    "keys = dic_count.keys()\n",
    "vals = dic_count.values()\n",
    "plt.bar(keys, np.divide(list(vals), sum(vals)), label=\"Соотношение классов\")\n",
    "plt.ylim(0,1)\n",
    "plt.ylabel(\"Процентное соотн-ие\")\n",
    "plt.xlabel(\"Цифры\")\n",
    "plt.xticks(list(keys))\n",
    "plt.legend()\n",
    "plt.show()"
   ],
   "metadata": {
    "id": "PZBK15mgjoKY",
    "outputId": "05615283-c478-4525-f3f6-cc9638332273",
    "colab": {
     "base_uri": "https://localhost:8080/",
     "height": 474
    }
   }
  },
  {
   "cell_type": "markdown",
   "source": [
    "Так как набор данных предварительно обработан, то наблюдаем сбалансированность данных, следовательно прибегать к дополнительным методам не придется"
   ],
   "metadata": {
    "collapsed": false,
    "id": "nUOu5gmDjoKZ"
   }
  },
  {
   "cell_type": "code",
   "execution_count": 101,
   "outputs": [],
   "source": [
    "class NeuralNetwork(nn.Module):\n",
    "    def __init__(self, activation=nn.ReLU()):\n",
    "        super().__init__()\n",
    "        self.flatten = nn.Flatten()\n",
    "        self.activation = activation\n",
    "        self.layers_stack = nn.Sequential(\n",
    "            nn.Linear(28 * 28, 512),\n",
    "            self.activation,\n",
    "            nn.Linear(512, 256),\n",
    "            self.activation,\n",
    "            nn.Linear(256, 128),\n",
    "            self.activation,\n",
    "            nn.Linear(128, 10),\n",
    "        )\n",
    "\n",
    "    def forward(self, x):\n",
    "        x = self.flatten(x)\n",
    "        logits = self.layers_stack(x)\n",
    "        return logits"
   ],
   "metadata": {
    "id": "greAdpLojoKa"
   }
  },
  {
   "cell_type": "code",
   "execution_count": 102,
   "outputs": [],
   "source": [
    "model = NeuralNetwork().to(device)"
   ],
   "metadata": {
    "collapsed": false
   }
  },
  {
   "cell_type": "code",
   "execution_count": 53,
   "outputs": [
    {
     "name": "stdout",
     "output_type": "stream",
     "text": [
      "----------------------------------------------------------------\n",
      "        Layer (type)               Output Shape         Param #\n",
      "================================================================\n",
      "           Flatten-1                  [-1, 784]               0\n",
      "            Linear-2                  [-1, 512]         401,920\n",
      "              ReLU-3                  [-1, 512]               0\n",
      "              ReLU-4                  [-1, 512]               0\n",
      "            Linear-5                  [-1, 256]         131,328\n",
      "              ReLU-6                  [-1, 256]               0\n",
      "              ReLU-7                  [-1, 256]               0\n",
      "            Linear-8                  [-1, 128]          32,896\n",
      "              ReLU-9                  [-1, 128]               0\n",
      "             ReLU-10                  [-1, 128]               0\n",
      "           Linear-11                   [-1, 10]           1,290\n",
      "================================================================\n",
      "Total params: 567,434\n",
      "Trainable params: 567,434\n",
      "Non-trainable params: 0\n",
      "----------------------------------------------------------------\n",
      "Input size (MB): 0.00\n",
      "Forward/backward pass size (MB): 0.03\n",
      "Params size (MB): 2.16\n",
      "Estimated Total Size (MB): 2.19\n",
      "----------------------------------------------------------------\n"
     ]
    }
   ],
   "source": [
    "from torchvision import models\n",
    "from torchsummary import summary\n",
    "summary(model, (1, 28, 28))"
   ],
   "metadata": {
    "collapsed": false
   }
  },
  {
   "cell_type": "markdown",
   "source": [
    "Архитектура ИНС имеет следующий вид: 784 входа, которые равны количеству пикселей в изображении, 3 скрытых слоя по 512, 256 и 128 нейронов соответственно. В качестве функции активации используется ReLU, которая имеет вид\n",
    "![image](ReLUpic.jpg)\n",
    "Всего в модели 567434 рассчитываемых параметров"
   ],
   "metadata": {
    "collapsed": false,
    "id": "V3oStsU2joKb"
   }
  },
  {
   "cell_type": "code",
   "execution_count": 103,
   "outputs": [],
   "source": [
    "loss_function = nn.CrossEntropyLoss()\n",
    "optimizer = optim.Adam(model.parameters(), lr=learning_rate)"
   ],
   "metadata": {
    "id": "1f4aVbqhjoKf",
    "outputId": "fdcac12d-b28f-4a1e-ea0f-49bd604b8543",
    "colab": {
     "base_uri": "https://localhost:8080/"
    }
   }
  },
  {
   "cell_type": "code",
   "execution_count": 104,
   "outputs": [],
   "source": [
    "def train_loop(dataloader, model, loss_function, optimizer):\n",
    "    num_batches = len(dataloader)\n",
    "\n",
    "    train_loss = 0\n",
    "\n",
    "    for imgs, labels in dataloader:\n",
    "        # предсказание и расчет потерь\n",
    "        pred = model(imgs.to(device))\n",
    "        loss = loss_function(pred, labels.to(device))\n",
    "\n",
    "        # оптимизация\n",
    "        optimizer.zero_grad()\n",
    "        loss.backward()\n",
    "        optimizer.step()\n",
    "\n",
    "        train_loss += loss.item()\n",
    "\n",
    "    train_loss /= num_batches\n",
    "    print(f\"Потери обучения: {train_loss:>8f}\")\n",
    "\n",
    "    return train_loss\n",
    "\n",
    "\n",
    "def test_loop(dataloader, model, loss_function):\n",
    "    size = len(dataloader.dataset)\n",
    "    num_batches = len(dataloader)\n",
    "\n",
    "    test_loss, correct = 0, 0\n",
    "\n",
    "    with torch.no_grad():\n",
    "        for imgs, labels in dataloader:\n",
    "            # Compute prediction and loss\n",
    "            pred = model(imgs.to(device))\n",
    "            loss = loss_function(pred, labels.to(device))\n",
    "\n",
    "            test_loss += loss.item()\n",
    "            correct += (\n",
    "                (pred.argmax(1) == labels.to(device)).type(torch.float).sum().item()\n",
    "            )\n",
    "\n",
    "    test_loss /= num_batches\n",
    "    correct /= size\n",
    "    print(f\"Потери на тестовых данных: {test_loss:>8f}, Точность модели на тестовых данных: {(100*correct):>0.1f}% \\n\")\n",
    "\n",
    "    return test_loss"
   ],
   "metadata": {
    "id": "oT8i5kCbjoKg"
   }
  },
  {
   "cell_type": "code",
   "execution_count": 95,
   "outputs": [
    {
     "name": "stdout",
     "output_type": "stream",
     "text": [
      "Эпоха номер 1\n",
      "Потери обучения: 2.299356\n",
      "Потери на тестовых данных: 2.293170, Точность модели на тестовых данных: 12.3% \n",
      "\n",
      "Эпоха номер 2\n",
      "Потери обучения: 2.286282\n",
      "Потери на тестовых данных: 2.276639, Точность модели на тестовых данных: 20.9% \n",
      "\n",
      "Эпоха номер 3\n",
      "Потери обучения: 2.264115\n",
      "Потери на тестовых данных: 2.245855, Точность модели на тестовых данных: 44.0% \n",
      "\n",
      "Эпоха номер 4\n",
      "Потери обучения: 2.217779\n",
      "Потери на тестовых данных: 2.174506, Точность модели на тестовых данных: 49.1% \n",
      "\n",
      "Эпоха номер 5\n",
      "Потери обучения: 2.094292\n",
      "Потери на тестовых данных: 1.971794, Точность модели на тестовых данных: 49.9% \n",
      "\n",
      "Эпоха номер 6\n",
      "Потери обучения: 1.771122\n",
      "Потери на тестовых данных: 1.507152, Точность модели на тестовых данных: 59.1% \n",
      "\n",
      "Эпоха номер 7\n",
      "Потери обучения: 1.265876\n",
      "Потери на тестовых данных: 1.034491, Точность модели на тестовых данных: 73.0% \n",
      "\n",
      "Эпоха номер 8\n",
      "Потери обучения: 0.918453\n",
      "Потери на тестовых данных: 0.791925, Точность модели на тестовых данных: 77.7% \n",
      "\n",
      "Эпоха номер 9\n",
      "Потери обучения: 0.737862\n",
      "Потери на тестовых данных: 0.656131, Точность модели на тестовых данных: 81.0% \n",
      "\n",
      "Эпоха номер 10\n",
      "Потери обучения: 0.627357\n",
      "Потери на тестовых данных: 0.567349, Точность модели на тестовых данных: 83.5% \n",
      "\n",
      "Эпоха номер 11\n",
      "Потери обучения: 0.551230\n",
      "Потери на тестовых данных: 0.504361, Точность модели на тестовых данных: 85.9% \n",
      "\n",
      "Эпоха номер 12\n",
      "Потери обучения: 0.496273\n",
      "Потери на тестовых данных: 0.458034, Точность модели на тестовых данных: 87.2% \n",
      "\n",
      "Эпоха номер 13\n",
      "Потери обучения: 0.456220\n",
      "Потери на тестовых данных: 0.425744, Точность модели на тестовых данных: 88.0% \n",
      "\n",
      "Эпоха номер 14\n",
      "Потери обучения: 0.426450\n",
      "Потери на тестовых данных: 0.399743, Точность модели на тестовых данных: 88.5% \n",
      "\n",
      "Эпоха номер 15\n",
      "Потери обучения: 0.404067\n",
      "Потери на тестовых данных: 0.380825, Точность модели на тестовых данных: 88.9% \n",
      "\n",
      "Эпоха номер 16\n",
      "Потери обучения: 0.386161\n",
      "Потери на тестовых данных: 0.365838, Точность модели на тестовых данных: 89.3% \n",
      "\n",
      "Эпоха номер 17\n",
      "Потери обучения: 0.371533\n",
      "Потери на тестовых данных: 0.353830, Точность модели на тестовых данных: 89.6% \n",
      "\n",
      "Эпоха номер 18\n",
      "Потери обучения: 0.359292\n",
      "Потери на тестовых данных: 0.341525, Точность модели на тестовых данных: 90.0% \n",
      "\n",
      "Эпоха номер 19\n",
      "Потери обучения: 0.348652\n",
      "Потери на тестовых данных: 0.332621, Точность модели на тестовых данных: 90.3% \n",
      "\n",
      "Эпоха номер 20\n",
      "Потери обучения: 0.339141\n",
      "Потери на тестовых данных: 0.323863, Точность модели на тестовых данных: 90.5% \n",
      "\n",
      "Эпоха номер 21\n",
      "Потери обучения: 0.330603\n",
      "Потери на тестовых данных: 0.317706, Точность модели на тестовых данных: 90.8% \n",
      "\n",
      "Эпоха номер 22\n",
      "Потери обучения: 0.322648\n",
      "Потери на тестовых данных: 0.309627, Точность модели на тестовых данных: 91.0% \n",
      "\n",
      "Эпоха номер 23\n",
      "Потери обучения: 0.315289\n",
      "Потери на тестовых данных: 0.302868, Точность модели на тестовых данных: 91.2% \n",
      "\n",
      "Эпоха номер 24\n",
      "Потери обучения: 0.308153\n",
      "Потери на тестовых данных: 0.295364, Точность модели на тестовых данных: 91.4% \n",
      "\n",
      "Эпоха номер 25\n",
      "Потери обучения: 0.301558\n",
      "Потери на тестовых данных: 0.290966, Точность модели на тестовых данных: 91.5% \n",
      "\n",
      "Эпоха номер 26\n",
      "Потери обучения: 0.295349\n",
      "Потери на тестовых данных: 0.283068, Точность модели на тестовых данных: 91.8% \n",
      "\n",
      "Эпоха номер 27\n",
      "Потери обучения: 0.288930\n",
      "Потери на тестовых данных: 0.277556, Точность модели на тестовых данных: 91.9% \n",
      "\n",
      "Эпоха номер 28\n",
      "Потери обучения: 0.283158\n",
      "Потери на тестовых данных: 0.272806, Точность модели на тестовых данных: 92.2% \n",
      "\n",
      "Эпоха номер 29\n",
      "Потери обучения: 0.277358\n",
      "Потери на тестовых данных: 0.269111, Точность модели на тестовых данных: 92.2% \n",
      "\n",
      "Эпоха номер 30\n",
      "Потери обучения: 0.272019\n",
      "Потери на тестовых данных: 0.262925, Точность модели на тестовых данных: 92.4% \n",
      "\n",
      "Эпоха номер 31\n",
      "Потери обучения: 0.266598\n",
      "Потери на тестовых данных: 0.256953, Точность модели на тестовых данных: 92.6% \n",
      "\n",
      "Эпоха номер 32\n",
      "Потери обучения: 0.261191\n",
      "Потери на тестовых данных: 0.252199, Точность модели на тестовых данных: 92.8% \n",
      "\n",
      "Эпоха номер 33\n",
      "Потери обучения: 0.255974\n",
      "Потери на тестовых данных: 0.246699, Точность модели на тестовых данных: 92.9% \n",
      "\n",
      "Эпоха номер 34\n",
      "Потери обучения: 0.251044\n",
      "Потери на тестовых данных: 0.242269, Точность модели на тестовых данных: 93.1% \n",
      "\n",
      "Эпоха номер 35\n",
      "Потери обучения: 0.245856\n",
      "Потери на тестовых данных: 0.237933, Точность модели на тестовых данных: 93.2% \n",
      "\n",
      "Эпоха номер 36\n",
      "Потери обучения: 0.241178\n",
      "Потери на тестовых данных: 0.234118, Точность модели на тестовых данных: 93.3% \n",
      "\n",
      "Эпоха номер 37\n",
      "Потери обучения: 0.236480\n",
      "Потери на тестовых данных: 0.229910, Точность модели на тестовых данных: 93.5% \n",
      "\n",
      "Эпоха номер 38\n",
      "Потери обучения: 0.231904\n",
      "Потери на тестовых данных: 0.225460, Точность модели на тестовых данных: 93.5% \n",
      "\n",
      "Эпоха номер 39\n",
      "Потери обучения: 0.227324\n",
      "Потери на тестовых данных: 0.221136, Точность модели на тестовых данных: 93.8% \n",
      "\n",
      "Эпоха номер 40\n",
      "Потери обучения: 0.222950\n",
      "Потери на тестовых данных: 0.217761, Точность модели на тестовых данных: 93.8% \n",
      "\n",
      "Эпоха номер 41\n",
      "Потери обучения: 0.218539\n",
      "Потери на тестовых данных: 0.214269, Точность модели на тестовых данных: 94.0% \n",
      "\n",
      "Эпоха номер 42\n",
      "Потери обучения: 0.214477\n",
      "Потери на тестовых данных: 0.209678, Точность модели на тестовых данных: 94.1% \n",
      "\n",
      "Эпоха номер 43\n",
      "Потери обучения: 0.210539\n",
      "Потери на тестовых данных: 0.206368, Точность модели на тестовых данных: 94.1% \n",
      "\n",
      "Эпоха номер 44\n",
      "Потери обучения: 0.206627\n",
      "Потери на тестовых данных: 0.202121, Точность модели на тестовых данных: 94.1% \n",
      "\n",
      "Эпоха номер 45\n",
      "Потери обучения: 0.202743\n",
      "Потери на тестовых данных: 0.198623, Точность модели на тестовых данных: 94.2% \n",
      "\n",
      "Эпоха номер 46\n",
      "Потери обучения: 0.199024\n",
      "Потери на тестовых данных: 0.195080, Точность модели на тестовых данных: 94.3% \n",
      "\n",
      "Эпоха номер 47\n",
      "Потери обучения: 0.195268\n",
      "Потери на тестовых данных: 0.193684, Точность модели на тестовых данных: 94.4% \n",
      "\n",
      "Эпоха номер 48\n",
      "Потери обучения: 0.191968\n",
      "Потери на тестовых данных: 0.189868, Точность модели на тестовых данных: 94.5% \n",
      "\n",
      "Эпоха номер 49\n",
      "Потери обучения: 0.188569\n",
      "Потери на тестовых данных: 0.186354, Точность модели на тестовых данных: 94.6% \n",
      "\n",
      "Эпоха номер 50\n",
      "Потери обучения: 0.185154\n",
      "Потери на тестовых данных: 0.184048, Точность модели на тестовых данных: 94.7% \n",
      "\n",
      "Эпоха номер 51\n",
      "Потери обучения: 0.181998\n",
      "Потери на тестовых данных: 0.181076, Точность модели на тестовых данных: 94.7% \n",
      "\n",
      "Эпоха номер 52\n",
      "Потери обучения: 0.178904\n",
      "Потери на тестовых данных: 0.177779, Точность модели на тестовых данных: 94.8% \n",
      "\n",
      "Эпоха номер 53\n",
      "Потери обучения: 0.175801\n",
      "Потери на тестовых данных: 0.174736, Точность модели на тестовых данных: 94.9% \n",
      "\n",
      "Эпоха номер 54\n",
      "Потери обучения: 0.172835\n",
      "Потери на тестовых данных: 0.172266, Точность модели на тестовых данных: 95.0% \n",
      "\n",
      "Эпоха номер 55\n",
      "Потери обучения: 0.170103\n",
      "Потери на тестовых данных: 0.169831, Точность модели на тестовых данных: 95.0% \n",
      "\n",
      "Эпоха номер 56\n",
      "Потери обучения: 0.167234\n",
      "Потери на тестовых данных: 0.167014, Точность модели на тестовых данных: 95.0% \n",
      "\n",
      "Эпоха номер 57\n",
      "Потери обучения: 0.164446\n",
      "Потери на тестовых данных: 0.164831, Точность модели на тестовых данных: 95.2% \n",
      "\n",
      "Эпоха номер 58\n",
      "Потери обучения: 0.161775\n",
      "Потери на тестовых данных: 0.164027, Точность модели на тестовых данных: 95.2% \n",
      "\n",
      "Эпоха номер 59\n",
      "Потери обучения: 0.159333\n",
      "Потери на тестовых данных: 0.161292, Точность модели на тестовых данных: 95.2% \n",
      "\n",
      "Эпоха номер 60\n",
      "Потери обучения: 0.156697\n",
      "Потери на тестовых данных: 0.158431, Точность модели на тестовых данных: 95.3% \n",
      "\n",
      "Обучение завершнео за 60 эпох, затраченное время: 278.9151566028595\n"
     ]
    }
   ],
   "source": [
    "# обучение модели и построение графика обучения\n",
    "loss_history = {\"train\": [], \"test\": []}\n",
    "start_time = time.time()\n",
    "for i in range(num_epochs):\n",
    "    print(f\"Эпоха номер {i+1}\")\n",
    "    train_loss = train_loop(train_dataloader, model, loss_function, optimizer)\n",
    "    test_loss = test_loop(test_dataloader, model, loss_function)\n",
    "\n",
    "    loss_history[\"train\"].append(train_loss)\n",
    "    loss_history[\"test\"].append(test_loss)\n",
    "print(f\"Обучение завершнео за {num_epochs} эпох, затраченное время: {round(time.time() - start_time, 3)} секунд\")"
   ],
   "metadata": {
    "id": "oQIIQEl1joKg"
   }
  },
  {
   "cell_type": "code",
   "execution_count": 96,
   "outputs": [
    {
     "data": {
      "text/plain": "<Figure size 1000x500 with 1 Axes>",
      "image/png": "[encoded data removed]"
     },
     "metadata": {},
     "output_type": "display_data"
    }
   ],
   "source": [
    "plt.figure(figsize=(10, 5))\n",
    "plt.plot(range(1, num_epochs + 1), loss_history[\"train\"], label=\"train\")\n",
    "plt.plot(range(1, num_epochs + 1), loss_history[\"test\"], label=\"test\")\n",
    "plt.xlabel(\"Epochs\", fontsize=15)\n",
    "plt.ylabel(\"Loss\", fontsize=15)\n",
    "plt.legend()\n",
    "plt.grid()\n",
    "plt.title(\"График обучения для оптимизатора SDG\")\n",
    "plt.show()"
   ],
   "metadata": {
    "collapsed": false
   }
  },
  {
   "cell_type": "code",
   "execution_count": 105,
   "outputs": [
    {
     "name": "stdout",
     "output_type": "stream",
     "text": [
      "Эпоха номер 1\n",
      "Потери обучения: 0.229833\n",
      "Потери на тестовых данных: 0.100446, Точность модели на тестовых данных: 96.9% \n",
      "\n",
      "Эпоха номер 2\n",
      "Потери обучения: 0.092155\n",
      "Потери на тестовых данных: 0.093835, Точность модели на тестовых данных: 97.2% \n",
      "\n",
      "Эпоха номер 3\n",
      "Потери обучения: 0.064779\n",
      "Потери на тестовых данных: 0.082587, Точность модели на тестовых данных: 97.5% \n",
      "\n",
      "Эпоха номер 4\n",
      "Потери обучения: 0.049180\n",
      "Потери на тестовых данных: 0.075113, Точность модели на тестовых данных: 97.9% \n",
      "\n",
      "Эпоха номер 5\n",
      "Потери обучения: 0.040104\n",
      "Потери на тестовых данных: 0.094765, Точность модели на тестовых данных: 97.5% \n",
      "\n",
      "Эпоха номер 6\n",
      "Потери обучения: 0.034530\n",
      "Потери на тестовых данных: 0.077309, Точность модели на тестовых данных: 98.0% \n",
      "\n",
      "Эпоха номер 7\n",
      "Потери обучения: 0.028269\n",
      "Потери на тестовых данных: 0.080712, Точность модели на тестовых данных: 98.0% \n",
      "\n",
      "Эпоха номер 8\n",
      "Потери обучения: 0.024418\n",
      "Потери на тестовых данных: 0.078363, Точность модели на тестовых данных: 98.2% \n",
      "\n",
      "Эпоха номер 9\n",
      "Потери обучения: 0.021949\n",
      "Потери на тестовых данных: 0.074519, Точность модели на тестовых данных: 98.2% \n",
      "\n",
      "Эпоха номер 10\n",
      "Потери обучения: 0.020258\n",
      "Потери на тестовых данных: 0.092435, Точность модели на тестовых данных: 98.0% \n",
      "\n",
      "Обучение завершнео за 10 эпох, затраченное время: 58.596 секуд\n"
     ]
    }
   ],
   "source": [
    "loss_history = {\"train\": [], \"test\": []}\n",
    "start_time = time.time()\n",
    "for i in range(num_epochs):\n",
    "    print(f\"Эпоха номер {i+1}\")\n",
    "    train_loss = train_loop(train_dataloader, model, loss_function, optimizer)\n",
    "    test_loss = test_loop(test_dataloader, model, loss_function)\n",
    "\n",
    "    loss_history[\"train\"].append(train_loss)\n",
    "    loss_history[\"test\"].append(test_loss)\n",
    "print(f\"Обучение завершнео за {num_epochs} эпох, затраченное время: {round(time.time() - start_time, 3)} секунд\")"
   ],
   "metadata": {
    "collapsed": false
   }
  },
  {
   "cell_type": "code",
   "source": [
    "plt.figure(figsize=(10, 5))\n",
    "plt.plot(range(1, num_epochs + 1), loss_history[\"train\"], label=\"train\")\n",
    "plt.plot(range(1, num_epochs + 1), loss_history[\"test\"], label=\"test\")\n",
    "plt.xlabel(\"Epochs\", fontsize=15)\n",
    "plt.ylabel(\"Loss\", fontsize=15)\n",
    "plt.legend()\n",
    "plt.grid()\n",
    "plt.title(\"График обучения для оптимизатора Adam\")\n",
    "plt.show()"
   ],
   "metadata": {
    "id": "lWGJycBvuKm-",
    "outputId": "24fe0f16-dad4-4e13-a7de-59d076aac4fd",
    "colab": {
     "base_uri": "https://localhost:8080/"
    }
   },
   "execution_count": 106,
   "outputs": [
    {
     "data": {
      "text/plain": "<Figure size 1000x500 with 1 Axes>",
      "image/png": "[encoded data removed]"
     },
     "metadata": {},
     "output_type": "display_data"
    }
   ]
  },
  {
   "cell_type": "markdown",
   "source": [
    "Используя оптимизатор Adam модель обучается быстрее и требует меньших вычислительных мощностей. В обоих случаях точность модели очень высокая."
   ],
   "metadata": {
    "collapsed": false
   }
  },
  {
   "cell_type": "code",
   "source": [
    "imgs, labels = next(iter(test_dataloader))\n",
    "pred = model(imgs.to(device))\n",
    "imgs = torch.reshape(imgs, (32, 28, 28))\n",
    "imgs = imgs[:10]\n",
    "pred = pred[:10].detach()\n",
    "print(\"Предсказание для первого образца:\\n\", pred[0])\n",
    "digits = np.argmax(pred.cpu().numpy(), axis=1)\n",
    "print(\"Предсказанный класс: \", digits[0])"
   ],
   "metadata": {
    "id": "GshNmTccuyGR"
   },
   "execution_count": 109,
   "outputs": [
    {
     "name": "stdout",
     "output_type": "stream",
     "text": [
      "Предсказание для первого образца:\n",
      " tensor([-36.0733,  -6.2070, -10.5537,  -9.9646,  -3.9839, -18.8594, -40.1371,\n",
      "         17.7274, -16.1471, -10.9591], device='cuda:0')\n",
      "Предсказанный класс:  7\n"
     ]
    }
   ]
  },
  {
   "cell_type": "code",
   "source": [
    "plt.figure(figsize=(25.0, 25.0))\n",
    "for i in range(10):\n",
    "    img = imgs[i]\n",
    "\n",
    "    plt.subplot(1, 10, i + 1)\n",
    "    plt.title(\n",
    "        \"Пред-ие: \" + str(digits[i]) + \" Метка: \" + str(labels[i].numpy())\n",
    "    )  # predicted and real values\n",
    "    plt.axis(\"off\")\n",
    "    plt.imshow(img.numpy(), cmap=\"gray\")"
   ],
   "metadata": {
    "id": "zIRaNImkvFic"
   },
   "execution_count": 113,
   "outputs": [
    {
     "data": {
      "text/plain": "<Figure size 2500x2500 with 10 Axes>",
      "image/png": "[encoded data removed]"
     },
     "metadata": {},
     "output_type": "display_data"
    }
   ]
  },
  {
   "cell_type": "code",
   "execution_count": 123,
   "outputs": [],
   "source": [
    "from sklearn.metrics import accuracy_score\n",
    "from sklearn.metrics import precision_score\n",
    "from sklearn.metrics import  recall_score\n",
    "from sklearn.metrics import f1_score"
   ],
   "metadata": {
    "collapsed": false
   }
  },
  {
   "cell_type": "code",
   "execution_count": 136,
   "outputs": [
    {
     "name": "stdout",
     "output_type": "stream",
     "text": [
      "Accuracy: 98.04%\n",
      "Precision score: 98.03%\n",
      "Recall score: 98.03%\n",
      "f1 score: 98.02%\n"
     ]
    }
   ],
   "source": [
    "net = model.to('cpu')\n",
    "y_pred = []\n",
    "y_true = []\n",
    "correct = 0\n",
    "total = 0\n",
    "with torch.no_grad():\n",
    "    for data in test_dataloader:\n",
    "        X, y = data\n",
    "        output = net(X.view(-1, 784))\n",
    "        y_true += y.tolist()\n",
    "        y_pred += torch.argmax(output, dim=1).tolist()\n",
    "        for idx, i in enumerate(output):\n",
    "             if torch.argmax(i) == y[idx]:\n",
    "                 correct += 1\n",
    "             total += 1\n",
    "print(f'Accuracy: {accuracy_score(y_true, y_pred)*100}%')\n",
    "print(f'Precision score: {round(precision_score(y_true, y_pred, average=\"macro\")*100, 2)}%')\n",
    "print(f'Recall score: {round(recall_score(y_true, y_pred, average=\"macro\")*100, 2)}%')\n",
    "print(f'f1 score: {round(f1_score(y_true, y_pred, average=\"macro\")*100, 2)}%')"
   ],
   "metadata": {
    "id": "mn-qEDGkjoKg",
    "outputId": "7b0f4beb-806b-4b70-d145-83425877ce73",
    "colab": {
     "base_uri": "https://localhost:8080/"
    }
   }
  },
  {
   "cell_type": "markdown",
   "source": [
    "Наблюдаем очень хорошие показатели точности для обученной модели."
   ],
   "metadata": {
    "collapsed": false
   }
  },
  {
   "cell_type": "markdown",
   "source": [
    "# Сверточная сеть для MNIST"
   ],
   "metadata": {
    "collapsed": false
   }
  },
  {
   "cell_type": "code",
   "execution_count": 164,
   "outputs": [
    {
     "name": "stdout",
     "output_type": "stream",
     "text": [
      "Using cuda device\n"
     ]
    }
   ],
   "source": [
    "num_epochs = 5\n",
    "batch_size = 32\n",
    "learning_rate = 1e-3\n",
    "device = \"cuda\" if torch.cuda.is_available() else \"cpu\"\n",
    "print(f\"Using {device} device\")"
   ],
   "metadata": {
    "collapsed": false
   }
  },
  {
   "cell_type": "code",
   "execution_count": 165,
   "outputs": [],
   "source": [
    "class CNN_model(nn.Module):\n",
    "    def __init__(self):\n",
    "        super(CNN_model, self).__init__()\n",
    "        self.conv_stack = nn.Sequential(\n",
    "            nn.Conv2d(1, 32, 3, padding=1),  # in channel=1, out=32\n",
    "            nn.MaxPool2d(2),  # size [32,14,14]\n",
    "            nn.ReLU(),\n",
    "            nn.Conv2d(32, 32, 3, padding=1),  # in channel=32, out=32\n",
    "            nn.MaxPool2d(2),  # size [32,7,7]\n",
    "            nn.ReLU(),\n",
    "            nn.Flatten(),\n",
    "            nn.Linear(32 * 7 * 7, 100),  # in = channel*heght*width\n",
    "            nn.ReLU(),\n",
    "            nn.Linear(100, 10),\n",
    "        )\n",
    "\n",
    "    def forward(self, x):\n",
    "        x = self.conv_stack(x)\n",
    "        return x"
   ],
   "metadata": {
    "collapsed": false
   }
  },
  {
   "cell_type": "code",
   "execution_count": 192,
   "outputs": [
    {
     "name": "stdout",
     "output_type": "stream",
     "text": [
      "Using cuda device\n"
     ]
    }
   ],
   "source": [
    "model = CNN_model().to(device)\n",
    "loss_function = nn.CrossEntropyLoss()\n",
    "optimizer = torch.optim.Adam(model.parameters(), lr=learning_rate)\n",
    "device = \"cuda\" if torch.cuda.is_available() else \"cpu\"\n",
    "print(f\"Using {device} device\")"
   ],
   "metadata": {
    "collapsed": false
   }
  },
  {
   "cell_type": "code",
   "execution_count": 167,
   "outputs": [
    {
     "name": "stdout",
     "output_type": "stream",
     "text": [
      "CNN_model(\n",
      "  (conv_stack): Sequential(\n",
      "    (0): Conv2d(1, 32, kernel_size=(3, 3), stride=(1, 1), padding=(1, 1))\n",
      "    (1): MaxPool2d(kernel_size=2, stride=2, padding=0, dilation=1, ceil_mode=False)\n",
      "    (2): ReLU()\n",
      "    (3): Conv2d(32, 32, kernel_size=(3, 3), stride=(1, 1), padding=(1, 1))\n",
      "    (4): MaxPool2d(kernel_size=2, stride=2, padding=0, dilation=1, ceil_mode=False)\n",
      "    (5): ReLU()\n",
      "    (6): Flatten(start_dim=1, end_dim=-1)\n",
      "    (7): Linear(in_features=1568, out_features=100, bias=True)\n",
      "    (8): ReLU()\n",
      "    (9): Linear(in_features=100, out_features=10, bias=True)\n",
      "  )\n",
      ")\n"
     ]
    }
   ],
   "source": [
    "print(model)"
   ],
   "metadata": {
    "collapsed": false
   }
  },
  {
   "cell_type": "code",
   "execution_count": 168,
   "outputs": [],
   "source": [
    "def train_loop(dataloader, model, loss_function, optimizer):\n",
    "    num_batches = len(dataloader)\n",
    "\n",
    "    train_loss = 0\n",
    "\n",
    "    for imgs, labels in dataloader:\n",
    "        # предсказание и расчет потерь\n",
    "        pred = model(imgs.to(device))\n",
    "        loss = loss_function(pred, labels.to(device))\n",
    "\n",
    "        # оптимизация\n",
    "        optimizer.zero_grad()\n",
    "        loss.backward()\n",
    "        optimizer.step()\n",
    "\n",
    "        train_loss += loss.item()\n",
    "\n",
    "    train_loss /= num_batches\n",
    "    print(f\"Потери обучения: {train_loss:>8f}\")\n",
    "\n",
    "    return train_loss\n",
    "\n",
    "\n",
    "def test_loop(dataloader, model, loss_function):\n",
    "    size = len(dataloader.dataset)\n",
    "    num_batches = len(dataloader)\n",
    "\n",
    "    test_loss, correct = 0, 0\n",
    "\n",
    "    with torch.no_grad():\n",
    "        for imgs, labels in dataloader:\n",
    "            # Compute prediction and loss\n",
    "            pred = model(imgs.to(device))\n",
    "            loss = loss_function(pred, labels.to(device))\n",
    "\n",
    "            test_loss += loss.item()\n",
    "            correct += (\n",
    "                (pred.argmax(1) == labels.to(device)).type(torch.float).sum().item()\n",
    "            )\n",
    "\n",
    "    test_loss /= num_batches\n",
    "    correct /= size\n",
    "    print(f\"Потери на тестовых данных: {test_loss:>8f}, Точность модели на тестовых данных: {(100*correct):>0.1f}% \\n\")\n",
    "\n",
    "    return test_loss"
   ],
   "metadata": {
    "collapsed": false
   }
  },
  {
   "cell_type": "code",
   "execution_count": 162,
   "outputs": [
    {
     "name": "stdout",
     "output_type": "stream",
     "text": [
      "Эпоха номер 1\n",
      "Потери обучения: 0.165581\n",
      "Потери на тестовых данных: 0.051033, Точность модели на тестовых данных: 98.4% \n",
      "\n",
      "Эпоха номер 2\n",
      "Потери обучения: 0.050314\n",
      "Потери на тестовых данных: 0.046146, Точность модели на тестовых данных: 98.4% \n",
      "\n",
      "Эпоха номер 3\n",
      "Потери обучения: 0.036065\n",
      "Потери на тестовых данных: 0.036191, Точность модели на тестовых данных: 98.8% \n",
      "\n",
      "Эпоха номер 4\n",
      "Потери обучения: 0.026327\n",
      "Потери на тестовых данных: 0.028632, Точность модели на тестовых данных: 99.0% \n",
      "\n",
      "Эпоха номер 5\n",
      "Потери обучения: 0.020570\n",
      "Потери на тестовых данных: 0.029090, Точность модели на тестовых данных: 99.0% \n",
      "\n",
      "Эпоха номер 6\n",
      "Потери обучения: 0.016089\n",
      "Потери на тестовых данных: 0.025978, Точность модели на тестовых данных: 99.2% \n",
      "\n",
      "Эпоха номер 7\n",
      "Потери обучения: 0.013247\n",
      "Потери на тестовых данных: 0.034300, Точность модели на тестовых данных: 98.9% \n",
      "\n",
      "Эпоха номер 8\n",
      "Потери обучения: 0.011506\n",
      "Потери на тестовых данных: 0.038409, Точность модели на тестовых данных: 98.9% \n",
      "\n",
      "Эпоха номер 9\n",
      "Потери обучения: 0.009590\n",
      "Потери на тестовых данных: 0.033323, Точность модели на тестовых данных: 99.1% \n",
      "\n",
      "Эпоха номер 10\n",
      "Потери обучения: 0.007703\n",
      "Потери на тестовых данных: 0.032340, Точность модели на тестовых данных: 99.1% \n",
      "\n",
      "Обучение завершнео за 10 эпох, затраченное время: 64.576 секунд\n"
     ]
    }
   ],
   "source": [
    "loss_history = {\"train\": [], \"test\": []}\n",
    "start_time = time.time()\n",
    "for i in range(num_epochs):\n",
    "    print(f\"Эпоха номер {i+1}\")\n",
    "    train_loss = train_loop(train_dataloader, model, loss_function, optimizer)\n",
    "    test_loss = test_loop(test_dataloader, model, loss_function)\n",
    "\n",
    "    loss_history[\"train\"].append(train_loss)\n",
    "    loss_history[\"test\"].append(test_loss)\n",
    "print(f\"Обучение завершнео за {num_epochs} эпох, затраченное время: {round(time.time() - start_time, 3)} секунд\")"
   ],
   "metadata": {
    "collapsed": false
   }
  },
  {
   "cell_type": "code",
   "execution_count": 163,
   "outputs": [
    {
     "data": {
      "text/plain": "<Figure size 1000x500 with 1 Axes>",
      "image/png": "[encoded data removed]"
     },
     "metadata": {},
     "output_type": "display_data"
    }
   ],
   "source": [
    "plt.figure(figsize=(10, 5))\n",
    "plt.plot(range(1, num_epochs + 1), loss_history[\"train\"], label=\"train\")\n",
    "plt.plot(range(1, num_epochs + 1), loss_history[\"test\"], label=\"test\")\n",
    "plt.xlabel(\"Epochs\", fontsize=15)\n",
    "plt.ylabel(\"Loss\", fontsize=15)\n",
    "plt.legend()\n",
    "plt.grid()\n",
    "plt.title(\"График обучения для CNN, оптимизатор Adam\")\n",
    "plt.show()"
   ],
   "metadata": {
    "collapsed": false
   }
  },
  {
   "cell_type": "code",
   "execution_count": 169,
   "outputs": [
    {
     "name": "stdout",
     "output_type": "stream",
     "text": [
      "Эпоха номер 1\n",
      "Потери обучения: 0.158288\n",
      "Потери на тестовых данных: 0.042604, Точность модели на тестовых данных: 98.7% \n",
      "\n",
      "Эпоха номер 2\n",
      "Потери обучения: 0.047731\n",
      "Потери на тестовых данных: 0.043324, Точность модели на тестовых данных: 98.7% \n",
      "\n",
      "Эпоха номер 3\n",
      "Потери обучения: 0.034067\n",
      "Потери на тестовых данных: 0.034374, Точность модели на тестовых данных: 98.9% \n",
      "\n",
      "Эпоха номер 4\n",
      "Потери обучения: 0.025090\n",
      "Потери на тестовых данных: 0.027512, Точность модели на тестовых данных: 99.1% \n",
      "\n",
      "Эпоха номер 5\n",
      "Потери обучения: 0.018507\n",
      "Потери на тестовых данных: 0.039170, Точность модели на тестовых данных: 98.7% \n",
      "\n",
      "Обучение завершнео за 5 эпох, затраченное время: 33.059 секунд\n"
     ]
    }
   ],
   "source": [
    "loss_history = {\"train\": [], \"test\": []}\n",
    "start_time = time.time()\n",
    "for i in range(num_epochs):\n",
    "    print(f\"Эпоха номер {i+1}\")\n",
    "    train_loss = train_loop(train_dataloader, model, loss_function, optimizer)\n",
    "    test_loss = test_loop(test_dataloader, model, loss_function)\n",
    "\n",
    "    loss_history[\"train\"].append(train_loss)\n",
    "    loss_history[\"test\"].append(test_loss)\n",
    "print(f\"Обучение завершнео за {num_epochs} эпох, затраченное время: {round(time.time() - start_time, 3)} секунд\")"
   ],
   "metadata": {
    "collapsed": false
   }
  },
  {
   "cell_type": "code",
   "execution_count": 170,
   "outputs": [
    {
     "data": {
      "text/plain": "<Figure size 1000x500 with 1 Axes>",
      "image/png": "[encoded data removed]"
     },
     "metadata": {},
     "output_type": "display_data"
    }
   ],
   "source": [
    "plt.figure(figsize=(10, 5))\n",
    "plt.plot(range(1, num_epochs + 1), loss_history[\"train\"], label=\"train\")\n",
    "plt.plot(range(1, num_epochs + 1), loss_history[\"test\"], label=\"test\")\n",
    "plt.xlabel(\"Epochs\", fontsize=15)\n",
    "plt.ylabel(\"Loss\", fontsize=15)\n",
    "plt.legend()\n",
    "plt.grid()\n",
    "plt.title(\"График обучения для CNN, оптимизатор Adam\")\n",
    "plt.show()"
   ],
   "metadata": {
    "collapsed": false
   }
  },
  {
   "cell_type": "code",
   "execution_count": 179,
   "outputs": [
    {
     "name": "stdout",
     "output_type": "stream",
     "text": [
      "Предсказание для первого образца:\n",
      " tensor([-12.2671,  -3.2641,  -7.1787,  -0.6766,  -5.0645,  -8.5421, -22.2273,\n",
      "         14.9186,  -7.5194,  -0.5750], device='cuda:0')\n",
      "Предсказанный класс:  7\n"
     ]
    }
   ],
   "source": [
    "imgs, labels = next(iter(test_dataloader))\n",
    "pred = model(imgs.to(device))\n",
    "imgs = torch.reshape(imgs, (32, 28, 28))\n",
    "imgs = imgs[:10]\n",
    "pred = pred[:10].detach()\n",
    "print(\"Предсказание для первого образца:\\n\", pred[0])\n",
    "digits = np.argmax(pred.cpu().numpy(), axis=1)\n",
    "print(\"Предсказанный класс: \", digits[0])"
   ],
   "metadata": {
    "collapsed": false
   }
  },
  {
   "cell_type": "code",
   "execution_count": 180,
   "outputs": [
    {
     "data": {
      "text/plain": "<Figure size 2500x2500 with 10 Axes>",
      "image/png": "[encoded data removed]"
     },
     "metadata": {},
     "output_type": "display_data"
    }
   ],
   "source": [
    "plt.figure(figsize=(25.0, 25.0))\n",
    "for i in range(10):\n",
    "    img = imgs[i]\n",
    "\n",
    "    plt.subplot(1, 10, i + 1)\n",
    "    plt.title(\n",
    "        \"Пред-ие: \" + str(digits[i]) + \" Метка: \" + str(labels[i].numpy())\n",
    "    )  # predicted and real values\n",
    "    plt.axis(\"off\")\n",
    "    plt.imshow(img.numpy(), cmap=\"gray\")"
   ],
   "metadata": {
    "collapsed": false
   }
  },
  {
   "cell_type": "code",
   "execution_count": 191,
   "outputs": [
    {
     "ename": "RuntimeError",
     "evalue": "Expected 3D (unbatched) or 4D (batched) input to conv2d, but got input of size: [32, 784]",
     "output_type": "error",
     "traceback": [
      "\u001B[1;31m---------------------------------------------------------------------------\u001B[0m",
      "\u001B[1;31mRuntimeError\u001B[0m                              Traceback (most recent call last)",
      "\u001B[1;32m~\\AppData\\Local\\Temp\\ipykernel_11404\\4230077745.py\u001B[0m in \u001B[0;36m<module>\u001B[1;34m\u001B[0m\n\u001B[0;32m      7\u001B[0m     \u001B[1;32mfor\u001B[0m \u001B[0mdata\u001B[0m \u001B[1;32min\u001B[0m \u001B[0mtest_dataloader\u001B[0m\u001B[1;33m:\u001B[0m\u001B[1;33m\u001B[0m\u001B[1;33m\u001B[0m\u001B[0m\n\u001B[0;32m      8\u001B[0m         \u001B[0mX\u001B[0m\u001B[1;33m,\u001B[0m \u001B[0my\u001B[0m \u001B[1;33m=\u001B[0m \u001B[0mdata\u001B[0m\u001B[1;33m\u001B[0m\u001B[1;33m\u001B[0m\u001B[0m\n\u001B[1;32m----> 9\u001B[1;33m         \u001B[0moutput\u001B[0m \u001B[1;33m=\u001B[0m \u001B[0mnet\u001B[0m\u001B[1;33m(\u001B[0m\u001B[0mX\u001B[0m\u001B[1;33m.\u001B[0m\u001B[0mview\u001B[0m\u001B[1;33m(\u001B[0m\u001B[1;33m-\u001B[0m\u001B[1;36m1\u001B[0m\u001B[1;33m,\u001B[0m \u001B[1;36m28\u001B[0m\u001B[1;33m*\u001B[0m\u001B[1;36m28\u001B[0m\u001B[1;33m)\u001B[0m\u001B[1;33m)\u001B[0m\u001B[1;33m\u001B[0m\u001B[1;33m\u001B[0m\u001B[0m\n\u001B[0m\u001B[0;32m     10\u001B[0m         \u001B[0my_true\u001B[0m \u001B[1;33m+=\u001B[0m \u001B[0my\u001B[0m\u001B[1;33m.\u001B[0m\u001B[0mtolist\u001B[0m\u001B[1;33m(\u001B[0m\u001B[1;33m)\u001B[0m\u001B[1;33m\u001B[0m\u001B[1;33m\u001B[0m\u001B[0m\n\u001B[0;32m     11\u001B[0m         \u001B[0my_pred\u001B[0m \u001B[1;33m+=\u001B[0m \u001B[0mtorch\u001B[0m\u001B[1;33m.\u001B[0m\u001B[0margmax\u001B[0m\u001B[1;33m(\u001B[0m\u001B[0moutput\u001B[0m\u001B[1;33m,\u001B[0m \u001B[0mdim\u001B[0m\u001B[1;33m=\u001B[0m\u001B[1;36m1\u001B[0m\u001B[1;33m)\u001B[0m\u001B[1;33m.\u001B[0m\u001B[0mtolist\u001B[0m\u001B[1;33m(\u001B[0m\u001B[1;33m)\u001B[0m\u001B[1;33m\u001B[0m\u001B[1;33m\u001B[0m\u001B[0m\n",
      "\u001B[1;32m~\\anaconda3\\lib\\site-packages\\torch\\nn\\modules\\module.py\u001B[0m in \u001B[0;36m_call_impl\u001B[1;34m(self, *input, **kwargs)\u001B[0m\n\u001B[0;32m   1192\u001B[0m         if not (self._backward_hooks or self._forward_hooks or self._forward_pre_hooks or _global_backward_hooks\n\u001B[0;32m   1193\u001B[0m                 or _global_forward_hooks or _global_forward_pre_hooks):\n\u001B[1;32m-> 1194\u001B[1;33m             \u001B[1;32mreturn\u001B[0m \u001B[0mforward_call\u001B[0m\u001B[1;33m(\u001B[0m\u001B[1;33m*\u001B[0m\u001B[0minput\u001B[0m\u001B[1;33m,\u001B[0m \u001B[1;33m**\u001B[0m\u001B[0mkwargs\u001B[0m\u001B[1;33m)\u001B[0m\u001B[1;33m\u001B[0m\u001B[1;33m\u001B[0m\u001B[0m\n\u001B[0m\u001B[0;32m   1195\u001B[0m         \u001B[1;31m# Do not call functions when jit is used\u001B[0m\u001B[1;33m\u001B[0m\u001B[1;33m\u001B[0m\u001B[0m\n\u001B[0;32m   1196\u001B[0m         \u001B[0mfull_backward_hooks\u001B[0m\u001B[1;33m,\u001B[0m \u001B[0mnon_full_backward_hooks\u001B[0m \u001B[1;33m=\u001B[0m \u001B[1;33m[\u001B[0m\u001B[1;33m]\u001B[0m\u001B[1;33m,\u001B[0m \u001B[1;33m[\u001B[0m\u001B[1;33m]\u001B[0m\u001B[1;33m\u001B[0m\u001B[1;33m\u001B[0m\u001B[0m\n",
      "\u001B[1;32m~\\AppData\\Local\\Temp\\ipykernel_11404\\3202584552.py\u001B[0m in \u001B[0;36mforward\u001B[1;34m(self, x)\u001B[0m\n\u001B[0;32m     16\u001B[0m \u001B[1;33m\u001B[0m\u001B[0m\n\u001B[0;32m     17\u001B[0m     \u001B[1;32mdef\u001B[0m \u001B[0mforward\u001B[0m\u001B[1;33m(\u001B[0m\u001B[0mself\u001B[0m\u001B[1;33m,\u001B[0m \u001B[0mx\u001B[0m\u001B[1;33m)\u001B[0m\u001B[1;33m:\u001B[0m\u001B[1;33m\u001B[0m\u001B[1;33m\u001B[0m\u001B[0m\n\u001B[1;32m---> 18\u001B[1;33m         \u001B[0mx\u001B[0m \u001B[1;33m=\u001B[0m \u001B[0mself\u001B[0m\u001B[1;33m.\u001B[0m\u001B[0mconv_stack\u001B[0m\u001B[1;33m(\u001B[0m\u001B[0mx\u001B[0m\u001B[1;33m)\u001B[0m\u001B[1;33m\u001B[0m\u001B[1;33m\u001B[0m\u001B[0m\n\u001B[0m\u001B[0;32m     19\u001B[0m         \u001B[1;32mreturn\u001B[0m \u001B[0mx\u001B[0m\u001B[1;33m\u001B[0m\u001B[1;33m\u001B[0m\u001B[0m\n",
      "\u001B[1;32m~\\anaconda3\\lib\\site-packages\\torch\\nn\\modules\\module.py\u001B[0m in \u001B[0;36m_call_impl\u001B[1;34m(self, *input, **kwargs)\u001B[0m\n\u001B[0;32m   1192\u001B[0m         if not (self._backward_hooks or self._forward_hooks or self._forward_pre_hooks or _global_backward_hooks\n\u001B[0;32m   1193\u001B[0m                 or _global_forward_hooks or _global_forward_pre_hooks):\n\u001B[1;32m-> 1194\u001B[1;33m             \u001B[1;32mreturn\u001B[0m \u001B[0mforward_call\u001B[0m\u001B[1;33m(\u001B[0m\u001B[1;33m*\u001B[0m\u001B[0minput\u001B[0m\u001B[1;33m,\u001B[0m \u001B[1;33m**\u001B[0m\u001B[0mkwargs\u001B[0m\u001B[1;33m)\u001B[0m\u001B[1;33m\u001B[0m\u001B[1;33m\u001B[0m\u001B[0m\n\u001B[0m\u001B[0;32m   1195\u001B[0m         \u001B[1;31m# Do not call functions when jit is used\u001B[0m\u001B[1;33m\u001B[0m\u001B[1;33m\u001B[0m\u001B[0m\n\u001B[0;32m   1196\u001B[0m         \u001B[0mfull_backward_hooks\u001B[0m\u001B[1;33m,\u001B[0m \u001B[0mnon_full_backward_hooks\u001B[0m \u001B[1;33m=\u001B[0m \u001B[1;33m[\u001B[0m\u001B[1;33m]\u001B[0m\u001B[1;33m,\u001B[0m \u001B[1;33m[\u001B[0m\u001B[1;33m]\u001B[0m\u001B[1;33m\u001B[0m\u001B[1;33m\u001B[0m\u001B[0m\n",
      "\u001B[1;32m~\\anaconda3\\lib\\site-packages\\torch\\nn\\modules\\container.py\u001B[0m in \u001B[0;36mforward\u001B[1;34m(self, input)\u001B[0m\n\u001B[0;32m    202\u001B[0m     \u001B[1;32mdef\u001B[0m \u001B[0mforward\u001B[0m\u001B[1;33m(\u001B[0m\u001B[0mself\u001B[0m\u001B[1;33m,\u001B[0m \u001B[0minput\u001B[0m\u001B[1;33m)\u001B[0m\u001B[1;33m:\u001B[0m\u001B[1;33m\u001B[0m\u001B[1;33m\u001B[0m\u001B[0m\n\u001B[0;32m    203\u001B[0m         \u001B[1;32mfor\u001B[0m \u001B[0mmodule\u001B[0m \u001B[1;32min\u001B[0m \u001B[0mself\u001B[0m\u001B[1;33m:\u001B[0m\u001B[1;33m\u001B[0m\u001B[1;33m\u001B[0m\u001B[0m\n\u001B[1;32m--> 204\u001B[1;33m             \u001B[0minput\u001B[0m \u001B[1;33m=\u001B[0m \u001B[0mmodule\u001B[0m\u001B[1;33m(\u001B[0m\u001B[0minput\u001B[0m\u001B[1;33m)\u001B[0m\u001B[1;33m\u001B[0m\u001B[1;33m\u001B[0m\u001B[0m\n\u001B[0m\u001B[0;32m    205\u001B[0m         \u001B[1;32mreturn\u001B[0m \u001B[0minput\u001B[0m\u001B[1;33m\u001B[0m\u001B[1;33m\u001B[0m\u001B[0m\n\u001B[0;32m    206\u001B[0m \u001B[1;33m\u001B[0m\u001B[0m\n",
      "\u001B[1;32m~\\anaconda3\\lib\\site-packages\\torch\\nn\\modules\\module.py\u001B[0m in \u001B[0;36m_call_impl\u001B[1;34m(self, *input, **kwargs)\u001B[0m\n\u001B[0;32m   1192\u001B[0m         if not (self._backward_hooks or self._forward_hooks or self._forward_pre_hooks or _global_backward_hooks\n\u001B[0;32m   1193\u001B[0m                 or _global_forward_hooks or _global_forward_pre_hooks):\n\u001B[1;32m-> 1194\u001B[1;33m             \u001B[1;32mreturn\u001B[0m \u001B[0mforward_call\u001B[0m\u001B[1;33m(\u001B[0m\u001B[1;33m*\u001B[0m\u001B[0minput\u001B[0m\u001B[1;33m,\u001B[0m \u001B[1;33m**\u001B[0m\u001B[0mkwargs\u001B[0m\u001B[1;33m)\u001B[0m\u001B[1;33m\u001B[0m\u001B[1;33m\u001B[0m\u001B[0m\n\u001B[0m\u001B[0;32m   1195\u001B[0m         \u001B[1;31m# Do not call functions when jit is used\u001B[0m\u001B[1;33m\u001B[0m\u001B[1;33m\u001B[0m\u001B[0m\n\u001B[0;32m   1196\u001B[0m         \u001B[0mfull_backward_hooks\u001B[0m\u001B[1;33m,\u001B[0m \u001B[0mnon_full_backward_hooks\u001B[0m \u001B[1;33m=\u001B[0m \u001B[1;33m[\u001B[0m\u001B[1;33m]\u001B[0m\u001B[1;33m,\u001B[0m \u001B[1;33m[\u001B[0m\u001B[1;33m]\u001B[0m\u001B[1;33m\u001B[0m\u001B[1;33m\u001B[0m\u001B[0m\n",
      "\u001B[1;32m~\\anaconda3\\lib\\site-packages\\torch\\nn\\modules\\conv.py\u001B[0m in \u001B[0;36mforward\u001B[1;34m(self, input)\u001B[0m\n\u001B[0;32m    461\u001B[0m \u001B[1;33m\u001B[0m\u001B[0m\n\u001B[0;32m    462\u001B[0m     \u001B[1;32mdef\u001B[0m \u001B[0mforward\u001B[0m\u001B[1;33m(\u001B[0m\u001B[0mself\u001B[0m\u001B[1;33m,\u001B[0m \u001B[0minput\u001B[0m\u001B[1;33m:\u001B[0m \u001B[0mTensor\u001B[0m\u001B[1;33m)\u001B[0m \u001B[1;33m->\u001B[0m \u001B[0mTensor\u001B[0m\u001B[1;33m:\u001B[0m\u001B[1;33m\u001B[0m\u001B[1;33m\u001B[0m\u001B[0m\n\u001B[1;32m--> 463\u001B[1;33m         \u001B[1;32mreturn\u001B[0m \u001B[0mself\u001B[0m\u001B[1;33m.\u001B[0m\u001B[0m_conv_forward\u001B[0m\u001B[1;33m(\u001B[0m\u001B[0minput\u001B[0m\u001B[1;33m,\u001B[0m \u001B[0mself\u001B[0m\u001B[1;33m.\u001B[0m\u001B[0mweight\u001B[0m\u001B[1;33m,\u001B[0m \u001B[0mself\u001B[0m\u001B[1;33m.\u001B[0m\u001B[0mbias\u001B[0m\u001B[1;33m)\u001B[0m\u001B[1;33m\u001B[0m\u001B[1;33m\u001B[0m\u001B[0m\n\u001B[0m\u001B[0;32m    464\u001B[0m \u001B[1;33m\u001B[0m\u001B[0m\n\u001B[0;32m    465\u001B[0m \u001B[1;32mclass\u001B[0m \u001B[0mConv3d\u001B[0m\u001B[1;33m(\u001B[0m\u001B[0m_ConvNd\u001B[0m\u001B[1;33m)\u001B[0m\u001B[1;33m:\u001B[0m\u001B[1;33m\u001B[0m\u001B[1;33m\u001B[0m\u001B[0m\n",
      "\u001B[1;32m~\\anaconda3\\lib\\site-packages\\torch\\nn\\modules\\conv.py\u001B[0m in \u001B[0;36m_conv_forward\u001B[1;34m(self, input, weight, bias)\u001B[0m\n\u001B[0;32m    457\u001B[0m                             \u001B[0mweight\u001B[0m\u001B[1;33m,\u001B[0m \u001B[0mbias\u001B[0m\u001B[1;33m,\u001B[0m \u001B[0mself\u001B[0m\u001B[1;33m.\u001B[0m\u001B[0mstride\u001B[0m\u001B[1;33m,\u001B[0m\u001B[1;33m\u001B[0m\u001B[1;33m\u001B[0m\u001B[0m\n\u001B[0;32m    458\u001B[0m                             _pair(0), self.dilation, self.groups)\n\u001B[1;32m--> 459\u001B[1;33m         return F.conv2d(input, weight, bias, self.stride,\n\u001B[0m\u001B[0;32m    460\u001B[0m                         self.padding, self.dilation, self.groups)\n\u001B[0;32m    461\u001B[0m \u001B[1;33m\u001B[0m\u001B[0m\n",
      "\u001B[1;31mRuntimeError\u001B[0m: Expected 3D (unbatched) or 4D (batched) input to conv2d, but got input of size: [32, 784]"
     ]
    }
   ],
   "source": [
    "net = model.to('cpu')\n",
    "y_pred = []\n",
    "y_true = []\n",
    "correct = 0\n",
    "total = 0\n",
    "with torch.no_grad():\n",
    "    for data in test_dataloader:\n",
    "        X, y = data\n",
    "        output = net(X.view(-1, 28*28))\n",
    "        y_true += y.tolist()\n",
    "        y_pred += torch.argmax(output, dim=1).tolist()\n",
    "        for idx, i in enumerate(output):\n",
    "             if torch.argmax(i) == y[idx]:\n",
    "                 correct += 1\n",
    "             total += 1\n",
    "print(f'Accuracy: {accuracy_score(y_true, y_pred)*100}%')\n",
    "print(f'Precision score: {round(precision_score(y_true, y_pred, average=\"macro\")*100, 2)}%')\n",
    "print(f'Recall score: {round(recall_score(y_true, y_pred, average=\"macro\")*100, 2)}%')\n",
    "print(f'f1 score: {round(f1_score(y_true, y_pred, average=\"macro\")*100, 2)}%')"
   ],
   "metadata": {
    "collapsed": false
   }
  },
  {
   "cell_type": "code",
   "execution_count": null,
   "outputs": [],
   "source": [],
   "metadata": {
    "collapsed": false
   }
  }
 ],
 "metadata": {
  "kernelspec": {
   "display_name": "Python 3",
   "language": "python",
   "name": "python3"
  },
  "language_info": {
   "codemirror_mode": {
    "name": "ipython",
    "version": 2
   },
   "file_extension": ".py",
   "mimetype": "text/x-python",
   "name": "python",
   "nbconvert_exporter": "python",
   "pygments_lexer": "ipython2",
   "version": "2.7.6"
  },
  "colab": {
   "provenance": []
  },
  "accelerator": "GPU",
  "gpuClass": "standard",
  "widgets": {
   "application/vnd.jupyter.widget-state+json": {
    "ebae8fede9a74fc589ea3150f15265a1": {
     "model_module": "@jupyter-widgets/controls",
     "model_name": "HBoxModel",
     "model_module_version": "1.5.0",
     "state": {
      "_dom_classes": [],
      "_model_module": "@jupyter-widgets/controls",
      "_model_module_version": "1.5.0",
      "_model_name": "HBoxModel",
      "_view_count": null,
      "_view_module": "@jupyter-widgets/controls",
      "_view_module_version": "1.5.0",
      "_view_name": "HBoxView",
      "box_style": "",
      "children": [
       "IPY_MODEL_5b39d5e3396e4586b6843bd32fc44443",
       "IPY_MODEL_6b5c0d1125db4610a7fdf0d0c03c923b",
       "IPY_MODEL_0b1dc0f17a2a4a2c805fc079c050eb29"
      ],
      "layout": "IPY_MODEL_c71ec38aea434ccdbd49a209aac6d7cf"
     }
    },
    "5b39d5e3396e4586b6843bd32fc44443": {
     "model_module": "@jupyter-widgets/controls",
     "model_name": "HTMLModel",
     "model_module_version": "1.5.0",
     "state": {
      "_dom_classes": [],
      "_model_module": "@jupyter-widgets/controls",
      "_model_module_version": "1.5.0",
      "_model_name": "HTMLModel",
      "_view_count": null,
      "_view_module": "@jupyter-widgets/controls",
      "_view_module_version": "1.5.0",
      "_view_name": "HTMLView",
      "description": "",
      "description_tooltip": null,
      "layout": "IPY_MODEL_47122f7e55b84fc5aa4dab644ede63c8",
      "placeholder": "​",
      "style": "IPY_MODEL_0f2dd697d9b84052aeebcaec7ea7a09e",
      "value": "100%"
     }
    },
    "6b5c0d1125db4610a7fdf0d0c03c923b": {
     "model_module": "@jupyter-widgets/controls",
     "model_name": "FloatProgressModel",
     "model_module_version": "1.5.0",
     "state": {
      "_dom_classes": [],
      "_model_module": "@jupyter-widgets/controls",
      "_model_module_version": "1.5.0",
      "_model_name": "FloatProgressModel",
      "_view_count": null,
      "_view_module": "@jupyter-widgets/controls",
      "_view_module_version": "1.5.0",
      "_view_name": "ProgressView",
      "bar_style": "success",
      "description": "",
      "description_tooltip": null,
      "layout": "IPY_MODEL_005f6a82616e4429ae0c51ca2823b7ed",
      "max": 9912422,
      "min": 0,
      "orientation": "horizontal",
      "style": "IPY_MODEL_08e2edd4178e4d7ba97ff8635aee2561",
      "value": 9912422
     }
    },
    "0b1dc0f17a2a4a2c805fc079c050eb29": {
     "model_module": "@jupyter-widgets/controls",
     "model_name": "HTMLModel",
     "model_module_version": "1.5.0",
     "state": {
      "_dom_classes": [],
      "_model_module": "@jupyter-widgets/controls",
      "_model_module_version": "1.5.0",
      "_model_name": "HTMLModel",
      "_view_count": null,
      "_view_module": "@jupyter-widgets/controls",
      "_view_module_version": "1.5.0",
      "_view_name": "HTMLView",
      "description": "",
      "description_tooltip": null,
      "layout": "IPY_MODEL_592331f951be46169a0bc050a07d24d3",
      "placeholder": "​",
      "style": "IPY_MODEL_e84fa70d86f24eb0a38d7f294d4df7a8",
      "value": " 9912422/9912422 [00:00&lt;00:00, 13755489.26it/s]"
     }
    },
    "c71ec38aea434ccdbd49a209aac6d7cf": {
     "model_module": "@jupyter-widgets/base",
     "model_name": "LayoutModel",
     "model_module_version": "1.2.0",
     "state": {
      "_model_module": "@jupyter-widgets/base",
      "_model_module_version": "1.2.0",
      "_model_name": "LayoutModel",
      "_view_count": null,
      "_view_module": "@jupyter-widgets/base",
      "_view_module_version": "1.2.0",
      "_view_name": "LayoutView",
      "align_content": null,
      "align_items": null,
      "align_self": null,
      "border": null,
      "bottom": null,
      "display": null,
      "flex": null,
      "flex_flow": null,
      "grid_area": null,
      "grid_auto_columns": null,
      "grid_auto_flow": null,
      "grid_auto_rows": null,
      "grid_column": null,
      "grid_gap": null,
      "grid_row": null,
      "grid_template_areas": null,
      "grid_template_columns": null,
      "grid_template_rows": null,
      "height": null,
      "justify_content": null,
      "justify_items": null,
      "left": null,
      "margin": null,
      "max_height": null,
      "max_width": null,
      "min_height": null,
      "min_width": null,
      "object_fit": null,
      "object_position": null,
      "order": null,
      "overflow": null,
      "overflow_x": null,
      "overflow_y": null,
      "padding": null,
      "right": null,
      "top": null,
      "visibility": null,
      "width": null
     }
    },
    "47122f7e55b84fc5aa4dab644ede63c8": {
     "model_module": "@jupyter-widgets/base",
     "model_name": "LayoutModel",
     "model_module_version": "1.2.0",
     "state": {
      "_model_module": "@jupyter-widgets/base",
      "_model_module_version": "1.2.0",
      "_model_name": "LayoutModel",
      "_view_count": null,
      "_view_module": "@jupyter-widgets/base",
      "_view_module_version": "1.2.0",
      "_view_name": "LayoutView",
      "align_content": null,
      "align_items": null,
      "align_self": null,
      "border": null,
      "bottom": null,
      "display": null,
      "flex": null,
      "flex_flow": null,
      "grid_area": null,
      "grid_auto_columns": null,
      "grid_auto_flow": null,
      "grid_auto_rows": null,
      "grid_column": null,
      "grid_gap": null,
      "grid_row": null,
      "grid_template_areas": null,
      "grid_template_columns": null,
      "grid_template_rows": null,
      "height": null,
      "justify_content": null,
      "justify_items": null,
      "left": null,
      "margin": null,
      "max_height": null,
      "max_width": null,
      "min_height": null,
      "min_width": null,
      "object_fit": null,
      "object_position": null,
      "order": null,
      "overflow": null,
      "overflow_x": null,
      "overflow_y": null,
      "padding": null,
      "right": null,
      "top": null,
      "visibility": null,
      "width": null
     }
    },
    "0f2dd697d9b84052aeebcaec7ea7a09e": {
     "model_module": "@jupyter-widgets/controls",
     "model_name": "DescriptionStyleModel",
     "model_module_version": "1.5.0",
     "state": {
      "_model_module": "@jupyter-widgets/controls",
      "_model_module_version": "1.5.0",
      "_model_name": "DescriptionStyleModel",
      "_view_count": null,
      "_view_module": "@jupyter-widgets/base",
      "_view_module_version": "1.2.0",
      "_view_name": "StyleView",
      "description_width": ""
     }
    },
    "005f6a82616e4429ae0c51ca2823b7ed": {
     "model_module": "@jupyter-widgets/base",
     "model_name": "LayoutModel",
     "model_module_version": "1.2.0",
     "state": {
      "_model_module": "@jupyter-widgets/base",
      "_model_module_version": "1.2.0",
      "_model_name": "LayoutModel",
      "_view_count": null,
      "_view_module": "@jupyter-widgets/base",
      "_view_module_version": "1.2.0",
      "_view_name": "LayoutView",
      "align_content": null,
      "align_items": null,
      "align_self": null,
      "border": null,
      "bottom": null,
      "display": null,
      "flex": null,
      "flex_flow": null,
      "grid_area": null,
      "grid_auto_columns": null,
      "grid_auto_flow": null,
      "grid_auto_rows": null,
      "grid_column": null,
      "grid_gap": null,
      "grid_row": null,
      "grid_template_areas": null,
      "grid_template_columns": null,
      "grid_template_rows": null,
      "height": null,
      "justify_content": null,
      "justify_items": null,
      "left": null,
      "margin": null,
      "max_height": null,
      "max_width": null,
      "min_height": null,
      "min_width": null,
      "object_fit": null,
      "object_position": null,
      "order": null,
      "overflow": null,
      "overflow_x": null,
      "overflow_y": null,
      "padding": null,
      "right": null,
      "top": null,
      "visibility": null,
      "width": null
     }
    },
    "08e2edd4178e4d7ba97ff8635aee2561": {
     "model_module": "@jupyter-widgets/controls",
     "model_name": "ProgressStyleModel",
     "model_module_version": "1.5.0",
     "state": {
      "_model_module": "@jupyter-widgets/controls",
      "_model_module_version": "1.5.0",
      "_model_name": "ProgressStyleModel",
      "_view_count": null,
      "_view_module": "@jupyter-widgets/base",
      "_view_module_version": "1.2.0",
      "_view_name": "StyleView",
      "bar_color": null,
      "description_width": ""
     }
    },
    "592331f951be46169a0bc050a07d24d3": {
     "model_module": "@jupyter-widgets/base",
     "model_name": "LayoutModel",
     "model_module_version": "1.2.0",
     "state": {
      "_model_module": "@jupyter-widgets/base",
      "_model_module_version": "1.2.0",
      "_model_name": "LayoutModel",
      "_view_count": null,
      "_view_module": "@jupyter-widgets/base",
      "_view_module_version": "1.2.0",
      "_view_name": "LayoutView",
      "align_content": null,
      "align_items": null,
      "align_self": null,
      "border": null,
      "bottom": null,
      "display": null,
      "flex": null,
      "flex_flow": null,
      "grid_area": null,
      "grid_auto_columns": null,
      "grid_auto_flow": null,
      "grid_auto_rows": null,
      "grid_column": null,
      "grid_gap": null,
      "grid_row": null,
      "grid_template_areas": null,
      "grid_template_columns": null,
      "grid_template_rows": null,
      "height": null,
      "justify_content": null,
      "justify_items": null,
      "left": null,
      "margin": null,
      "max_height": null,
      "max_width": null,
      "min_height": null,
      "min_width": null,
      "object_fit": null,
      "object_position": null,
      "order": null,
      "overflow": null,
      "overflow_x": null,
      "overflow_y": null,
      "padding": null,
      "right": null,
      "top": null,
      "visibility": null,
      "width": null
     }
    },
    "e84fa70d86f24eb0a38d7f294d4df7a8": {
     "model_module": "@jupyter-widgets/controls",
     "model_name": "DescriptionStyleModel",
     "model_module_version": "1.5.0",
     "state": {
      "_model_module": "@jupyter-widgets/controls",
      "_model_module_version": "1.5.0",
      "_model_name": "DescriptionStyleModel",
      "_view_count": null,
      "_view_module": "@jupyter-widgets/base",
      "_view_module_version": "1.2.0",
      "_view_name": "StyleView",
      "description_width": ""
     }
    },
    "1d7cd5efc77d478996ecc3d575531114": {
     "model_module": "@jupyter-widgets/controls",
     "model_name": "HBoxModel",
     "model_module_version": "1.5.0",
     "state": {
      "_dom_classes": [],
      "_model_module": "@jupyter-widgets/controls",
      "_model_module_version": "1.5.0",
      "_model_name": "HBoxModel",
      "_view_count": null,
      "_view_module": "@jupyter-widgets/controls",
      "_view_module_version": "1.5.0",
      "_view_name": "HBoxView",
      "box_style": "",
      "children": [
       "IPY_MODEL_a1882e6d81c442cda949903bf008ca82",
       "IPY_MODEL_fd0a0957a8e64e3f8f8433ddb0531ff3",
       "IPY_MODEL_b7b721a5f25f414fb972c2a2c15c8537"
      ],
      "layout": "IPY_MODEL_5d462096f37c4f5bae3383712666da36"
     }
    },
    "a1882e6d81c442cda949903bf008ca82": {
     "model_module": "@jupyter-widgets/controls",
     "model_name": "HTMLModel",
     "model_module_version": "1.5.0",
     "state": {
      "_dom_classes": [],
      "_model_module": "@jupyter-widgets/controls",
      "_model_module_version": "1.5.0",
      "_model_name": "HTMLModel",
      "_view_count": null,
      "_view_module": "@jupyter-widgets/controls",
      "_view_module_version": "1.5.0",
      "_view_name": "HTMLView",
      "description": "",
      "description_tooltip": null,
      "layout": "IPY_MODEL_a7fa5a400e3b4276923596c7bc4c91c6",
      "placeholder": "​",
      "style": "IPY_MODEL_8700978f9daf41df9a9ae7af5c4df85f",
      "value": "100%"
     }
    },
    "fd0a0957a8e64e3f8f8433ddb0531ff3": {
     "model_module": "@jupyter-widgets/controls",
     "model_name": "FloatProgressModel",
     "model_module_version": "1.5.0",
     "state": {
      "_dom_classes": [],
      "_model_module": "@jupyter-widgets/controls",
      "_model_module_version": "1.5.0",
      "_model_name": "FloatProgressModel",
      "_view_count": null,
      "_view_module": "@jupyter-widgets/controls",
      "_view_module_version": "1.5.0",
      "_view_name": "ProgressView",
      "bar_style": "success",
      "description": "",
      "description_tooltip": null,
      "layout": "IPY_MODEL_fe9e0f33aff2431caaef73b4204f53be",
      "max": 28881,
      "min": 0,
      "orientation": "horizontal",
      "style": "IPY_MODEL_ed64e2caad3d41e195a357d22dc179c6",
      "value": 28881
     }
    },
    "b7b721a5f25f414fb972c2a2c15c8537": {
     "model_module": "@jupyter-widgets/controls",
     "model_name": "HTMLModel",
     "model_module_version": "1.5.0",
     "state": {
      "_dom_classes": [],
      "_model_module": "@jupyter-widgets/controls",
      "_model_module_version": "1.5.0",
      "_model_name": "HTMLModel",
      "_view_count": null,
      "_view_module": "@jupyter-widgets/controls",
      "_view_module_version": "1.5.0",
      "_view_name": "HTMLView",
      "description": "",
      "description_tooltip": null,
      "layout": "IPY_MODEL_856a191c89e2495e96cb1a78fdb5cee2",
      "placeholder": "​",
      "style": "IPY_MODEL_2c9c16c3d8514cc7ab54876ef84418ed",
      "value": " 28881/28881 [00:00&lt;00:00, 527858.87it/s]"
     }
    },
    "5d462096f37c4f5bae3383712666da36": {
     "model_module": "@jupyter-widgets/base",
     "model_name": "LayoutModel",
     "model_module_version": "1.2.0",
     "state": {
      "_model_module": "@jupyter-widgets/base",
      "_model_module_version": "1.2.0",
      "_model_name": "LayoutModel",
      "_view_count": null,
      "_view_module": "@jupyter-widgets/base",
      "_view_module_version": "1.2.0",
      "_view_name": "LayoutView",
      "align_content": null,
      "align_items": null,
      "align_self": null,
      "border": null,
      "bottom": null,
      "display": null,
      "flex": null,
      "flex_flow": null,
      "grid_area": null,
      "grid_auto_columns": null,
      "grid_auto_flow": null,
      "grid_auto_rows": null,
      "grid_column": null,
      "grid_gap": null,
      "grid_row": null,
      "grid_template_areas": null,
      "grid_template_columns": null,
      "grid_template_rows": null,
      "height": null,
      "justify_content": null,
      "justify_items": null,
      "left": null,
      "margin": null,
      "max_height": null,
      "max_width": null,
      "min_height": null,
      "min_width": null,
      "object_fit": null,
      "object_position": null,
      "order": null,
      "overflow": null,
      "overflow_x": null,
      "overflow_y": null,
      "padding": null,
      "right": null,
      "top": null,
      "visibility": null,
      "width": null
     }
    },
    "a7fa5a400e3b4276923596c7bc4c91c6": {
     "model_module": "@jupyter-widgets/base",
     "model_name": "LayoutModel",
     "model_module_version": "1.2.0",
     "state": {
      "_model_module": "@jupyter-widgets/base",
      "_model_module_version": "1.2.0",
      "_model_name": "LayoutModel",
      "_view_count": null,
      "_view_module": "@jupyter-widgets/base",
      "_view_module_version": "1.2.0",
      "_view_name": "LayoutView",
      "align_content": null,
      "align_items": null,
      "align_self": null,
      "border": null,
      "bottom": null,
      "display": null,
      "flex": null,
      "flex_flow": null,
      "grid_area": null,
      "grid_auto_columns": null,
      "grid_auto_flow": null,
      "grid_auto_rows": null,
      "grid_column": null,
      "grid_gap": null,
      "grid_row": null,
      "grid_template_areas": null,
      "grid_template_columns": null,
      "grid_template_rows": null,
      "height": null,
      "justify_content": null,
      "justify_items": null,
      "left": null,
      "margin": null,
      "max_height": null,
      "max_width": null,
      "min_height": null,
      "min_width": null,
      "object_fit": null,
      "object_position": null,
      "order": null,
      "overflow": null,
      "overflow_x": null,
      "overflow_y": null,
      "padding": null,
      "right": null,
      "top": null,
      "visibility": null,
      "width": null
     }
    },
    "8700978f9daf41df9a9ae7af5c4df85f": {
     "model_module": "@jupyter-widgets/controls",
     "model_name": "DescriptionStyleModel",
     "model_module_version": "1.5.0",
     "state": {
      "_model_module": "@jupyter-widgets/controls",
      "_model_module_version": "1.5.0",
      "_model_name": "DescriptionStyleModel",
      "_view_count": null,
      "_view_module": "@jupyter-widgets/base",
      "_view_module_version": "1.2.0",
      "_view_name": "StyleView",
      "description_width": ""
     }
    },
    "fe9e0f33aff2431caaef73b4204f53be": {
     "model_module": "@jupyter-widgets/base",
     "model_name": "LayoutModel",
     "model_module_version": "1.2.0",
     "state": {
      "_model_module": "@jupyter-widgets/base",
      "_model_module_version": "1.2.0",
      "_model_name": "LayoutModel",
      "_view_count": null,
      "_view_module": "@jupyter-widgets/base",
      "_view_module_version": "1.2.0",
      "_view_name": "LayoutView",
      "align_content": null,
      "align_items": null,
      "align_self": null,
      "border": null,
      "bottom": null,
      "display": null,
      "flex": null,
      "flex_flow": null,
      "grid_area": null,
      "grid_auto_columns": null,
      "grid_auto_flow": null,
      "grid_auto_rows": null,
      "grid_column": null,
      "grid_gap": null,
      "grid_row": null,
      "grid_template_areas": null,
      "grid_template_columns": null,
      "grid_template_rows": null,
      "height": null,
      "justify_content": null,
      "justify_items": null,
      "left": null,
      "margin": null,
      "max_height": null,
      "max_width": null,
      "min_height": null,
      "min_width": null,
      "object_fit": null,
      "object_position": null,
      "order": null,
      "overflow": null,
      "overflow_x": null,
      "overflow_y": null,
      "padding": null,
      "right": null,
      "top": null,
      "visibility": null,
      "width": null
     }
    },
    "ed64e2caad3d41e195a357d22dc179c6": {
     "model_module": "@jupyter-widgets/controls",
     "model_name": "ProgressStyleModel",
     "model_module_version": "1.5.0",
     "state": {
      "_model_module": "@jupyter-widgets/controls",
      "_model_module_version": "1.5.0",
      "_model_name": "ProgressStyleModel",
      "_view_count": null,
      "_view_module": "@jupyter-widgets/base",
      "_view_module_version": "1.2.0",
      "_view_name": "StyleView",
      "bar_color": null,
      "description_width": ""
     }
    },
    "856a191c89e2495e96cb1a78fdb5cee2": {
     "model_module": "@jupyter-widgets/base",
     "model_name": "LayoutModel",
     "model_module_version": "1.2.0",
     "state": {
      "_model_module": "@jupyter-widgets/base",
      "_model_module_version": "1.2.0",
      "_model_name": "LayoutModel",
      "_view_count": null,
      "_view_module": "@jupyter-widgets/base",
      "_view_module_version": "1.2.0",
      "_view_name": "LayoutView",
      "align_content": null,
      "align_items": null,
      "align_self": null,
      "border": null,
      "bottom": null,
      "display": null,
      "flex": null,
      "flex_flow": null,
      "grid_area": null,
      "grid_auto_columns": null,
      "grid_auto_flow": null,
      "grid_auto_rows": null,
      "grid_column": null,
      "grid_gap": null,
      "grid_row": null,
      "grid_template_areas": null,
      "grid_template_columns": null,
      "grid_template_rows": null,
      "height": null,
      "justify_content": null,
      "justify_items": null,
      "left": null,
      "margin": null,
      "max_height": null,
      "max_width": null,
      "min_height": null,
      "min_width": null,
      "object_fit": null,
      "object_position": null,
      "order": null,
      "overflow": null,
      "overflow_x": null,
      "overflow_y": null,
      "padding": null,
      "right": null,
      "top": null,
      "visibility": null,
      "width": null
     }
    },
    "2c9c16c3d8514cc7ab54876ef84418ed": {
     "model_module": "@jupyter-widgets/controls",
     "model_name": "DescriptionStyleModel",
     "model_module_version": "1.5.0",
     "state": {
      "_model_module": "@jupyter-widgets/controls",
      "_model_module_version": "1.5.0",
      "_model_name": "DescriptionStyleModel",
      "_view_count": null,
      "_view_module": "@jupyter-widgets/base",
      "_view_module_version": "1.2.0",
      "_view_name": "StyleView",
      "description_width": ""
     }
    },
    "eb998f657b4f4bc885ae15d50236a1a8": {
     "model_module": "@jupyter-widgets/controls",
     "model_name": "HBoxModel",
     "model_module_version": "1.5.0",
     "state": {
      "_dom_classes": [],
      "_model_module": "@jupyter-widgets/controls",
      "_model_module_version": "1.5.0",
      "_model_name": "HBoxModel",
      "_view_count": null,
      "_view_module": "@jupyter-widgets/controls",
      "_view_module_version": "1.5.0",
      "_view_name": "HBoxView",
      "box_style": "",
      "children": [
       "IPY_MODEL_17a845d1fae744a99dc8fc0bb0cedf6b",
       "IPY_MODEL_0a0b8b2eb2434eb791ddf9149959c56c",
       "IPY_MODEL_af7391b60a4b43519e8c87bde329fd08"
      ],
      "layout": "IPY_MODEL_319487d24d0f460c9ed8aa40abb8a148"
     }
    },
    "17a845d1fae744a99dc8fc0bb0cedf6b": {
     "model_module": "@jupyter-widgets/controls",
     "model_name": "HTMLModel",
     "model_module_version": "1.5.0",
     "state": {
      "_dom_classes": [],
      "_model_module": "@jupyter-widgets/controls",
      "_model_module_version": "1.5.0",
      "_model_name": "HTMLModel",
      "_view_count": null,
      "_view_module": "@jupyter-widgets/controls",
      "_view_module_version": "1.5.0",
      "_view_name": "HTMLView",
      "description": "",
      "description_tooltip": null,
      "layout": "IPY_MODEL_20377af350ef40c3b049e8894fe74ffd",
      "placeholder": "​",
      "style": "IPY_MODEL_0d55b93007a24d679f69a971e1b29a2e",
      "value": "100%"
     }
    },
    "0a0b8b2eb2434eb791ddf9149959c56c": {
     "model_module": "@jupyter-widgets/controls",
     "model_name": "FloatProgressModel",
     "model_module_version": "1.5.0",
     "state": {
      "_dom_classes": [],
      "_model_module": "@jupyter-widgets/controls",
      "_model_module_version": "1.5.0",
      "_model_name": "FloatProgressModel",
      "_view_count": null,
      "_view_module": "@jupyter-widgets/controls",
      "_view_module_version": "1.5.0",
      "_view_name": "ProgressView",
      "bar_style": "success",
      "description": "",
      "description_tooltip": null,
      "layout": "IPY_MODEL_a1d97605fe224a71ae9d3012ad7fddea",
      "max": 1648877,
      "min": 0,
      "orientation": "horizontal",
      "style": "IPY_MODEL_679ca870ec9641b99790979dde82b239",
      "value": 1648877
     }
    },
    "af7391b60a4b43519e8c87bde329fd08": {
     "model_module": "@jupyter-widgets/controls",
     "model_name": "HTMLModel",
     "model_module_version": "1.5.0",
     "state": {
      "_dom_classes": [],
      "_model_module": "@jupyter-widgets/controls",
      "_model_module_version": "1.5.0",
      "_model_name": "HTMLModel",
      "_view_count": null,
      "_view_module": "@jupyter-widgets/controls",
      "_view_module_version": "1.5.0",
      "_view_name": "HTMLView",
      "description": "",
      "description_tooltip": null,
      "layout": "IPY_MODEL_5b37165e924d459b874cf1e6417ec6b6",
      "placeholder": "​",
      "style": "IPY_MODEL_25129a8bfed544e9b5263119f6b29b84",
      "value": " 1648877/1648877 [00:00&lt;00:00, 10080269.99it/s]"
     }
    },
    "319487d24d0f460c9ed8aa40abb8a148": {
     "model_module": "@jupyter-widgets/base",
     "model_name": "LayoutModel",
     "model_module_version": "1.2.0",
     "state": {
      "_model_module": "@jupyter-widgets/base",
      "_model_module_version": "1.2.0",
      "_model_name": "LayoutModel",
      "_view_count": null,
      "_view_module": "@jupyter-widgets/base",
      "_view_module_version": "1.2.0",
      "_view_name": "LayoutView",
      "align_content": null,
      "align_items": null,
      "align_self": null,
      "border": null,
      "bottom": null,
      "display": null,
      "flex": null,
      "flex_flow": null,
      "grid_area": null,
      "grid_auto_columns": null,
      "grid_auto_flow": null,
      "grid_auto_rows": null,
      "grid_column": null,
      "grid_gap": null,
      "grid_row": null,
      "grid_template_areas": null,
      "grid_template_columns": null,
      "grid_template_rows": null,
      "height": null,
      "justify_content": null,
      "justify_items": null,
      "left": null,
      "margin": null,
      "max_height": null,
      "max_width": null,
      "min_height": null,
      "min_width": null,
      "object_fit": null,
      "object_position": null,
      "order": null,
      "overflow": null,
      "overflow_x": null,
      "overflow_y": null,
      "padding": null,
      "right": null,
      "top": null,
      "visibility": null,
      "width": null
     }
    },
    "20377af350ef40c3b049e8894fe74ffd": {
     "model_module": "@jupyter-widgets/base",
     "model_name": "LayoutModel",
     "model_module_version": "1.2.0",
     "state": {
      "_model_module": "@jupyter-widgets/base",
      "_model_module_version": "1.2.0",
      "_model_name": "LayoutModel",
      "_view_count": null,
      "_view_module": "@jupyter-widgets/base",
      "_view_module_version": "1.2.0",
      "_view_name": "LayoutView",
      "align_content": null,
      "align_items": null,
      "align_self": null,
      "border": null,
      "bottom": null,
      "display": null,
      "flex": null,
      "flex_flow": null,
      "grid_area": null,
      "grid_auto_columns": null,
      "grid_auto_flow": null,
      "grid_auto_rows": null,
      "grid_column": null,
      "grid_gap": null,
      "grid_row": null,
      "grid_template_areas": null,
      "grid_template_columns": null,
      "grid_template_rows": null,
      "height": null,
      "justify_content": null,
      "justify_items": null,
      "left": null,
      "margin": null,
      "max_height": null,
      "max_width": null,
      "min_height": null,
      "min_width": null,
      "object_fit": null,
      "object_position": null,
      "order": null,
      "overflow": null,
      "overflow_x": null,
      "overflow_y": null,
      "padding": null,
      "right": null,
      "top": null,
      "visibility": null,
      "width": null
     }
    },
    "0d55b93007a24d679f69a971e1b29a2e": {
     "model_module": "@jupyter-widgets/controls",
     "model_name": "DescriptionStyleModel",
     "model_module_version": "1.5.0",
     "state": {
      "_model_module": "@jupyter-widgets/controls",
      "_model_module_version": "1.5.0",
      "_model_name": "DescriptionStyleModel",
      "_view_count": null,
      "_view_module": "@jupyter-widgets/base",
      "_view_module_version": "1.2.0",
      "_view_name": "StyleView",
      "description_width": ""
     }
    },
    "a1d97605fe224a71ae9d3012ad7fddea": {
     "model_module": "@jupyter-widgets/base",
     "model_name": "LayoutModel",
     "model_module_version": "1.2.0",
     "state": {
      "_model_module": "@jupyter-widgets/base",
      "_model_module_version": "1.2.0",
      "_model_name": "LayoutModel",
      "_view_count": null,
      "_view_module": "@jupyter-widgets/base",
      "_view_module_version": "1.2.0",
      "_view_name": "LayoutView",
      "align_content": null,
      "align_items": null,
      "align_self": null,
      "border": null,
      "bottom": null,
      "display": null,
      "flex": null,
      "flex_flow": null,
      "grid_area": null,
      "grid_auto_columns": null,
      "grid_auto_flow": null,
      "grid_auto_rows": null,
      "grid_column": null,
      "grid_gap": null,
      "grid_row": null,
      "grid_template_areas": null,
      "grid_template_columns": null,
      "grid_template_rows": null,
      "height": null,
      "justify_content": null,
      "justify_items": null,
      "left": null,
      "margin": null,
      "max_height": null,
      "max_width": null,
      "min_height": null,
      "min_width": null,
      "object_fit": null,
      "object_position": null,
      "order": null,
      "overflow": null,
      "overflow_x": null,
      "overflow_y": null,
      "padding": null,
      "right": null,
      "top": null,
      "visibility": null,
      "width": null
     }
    },
    "679ca870ec9641b99790979dde82b239": {
     "model_module": "@jupyter-widgets/controls",
     "model_name": "ProgressStyleModel",
     "model_module_version": "1.5.0",
     "state": {
      "_model_module": "@jupyter-widgets/controls",
      "_model_module_version": "1.5.0",
      "_model_name": "ProgressStyleModel",
      "_view_count": null,
      "_view_module": "@jupyter-widgets/base",
      "_view_module_version": "1.2.0",
      "_view_name": "StyleView",
      "bar_color": null,
      "description_width": ""
     }
    },
    "5b37165e924d459b874cf1e6417ec6b6": {
     "model_module": "@jupyter-widgets/base",
     "model_name": "LayoutModel",
     "model_module_version": "1.2.0",
     "state": {
      "_model_module": "@jupyter-widgets/base",
      "_model_module_version": "1.2.0",
      "_model_name": "LayoutModel",
      "_view_count": null,
      "_view_module": "@jupyter-widgets/base",
      "_view_module_version": "1.2.0",
      "_view_name": "LayoutView",
      "align_content": null,
      "align_items": null,
      "align_self": null,
      "border": null,
      "bottom": null,
      "display": null,
      "flex": null,
      "flex_flow": null,
      "grid_area": null,
      "grid_auto_columns": null,
      "grid_auto_flow": null,
      "grid_auto_rows": null,
      "grid_column": null,
      "grid_gap": null,
      "grid_row": null,
      "grid_template_areas": null,
      "grid_template_columns": null,
      "grid_template_rows": null,
      "height": null,
      "justify_content": null,
      "justify_items": null,
      "left": null,
      "margin": null,
      "max_height": null,
      "max_width": null,
      "min_height": null,
      "min_width": null,
      "object_fit": null,
      "object_position": null,
      "order": null,
      "overflow": null,
      "overflow_x": null,
      "overflow_y": null,
      "padding": null,
      "right": null,
      "top": null,
      "visibility": null,
      "width": null
     }
    },
    "25129a8bfed544e9b5263119f6b29b84": {
     "model_module": "@jupyter-widgets/controls",
     "model_name": "DescriptionStyleModel",
     "model_module_version": "1.5.0",
     "state": {
      "_model_module": "@jupyter-widgets/controls",
      "_model_module_version": "1.5.0",
      "_model_name": "DescriptionStyleModel",
      "_view_count": null,
      "_view_module": "@jupyter-widgets/base",
      "_view_module_version": "1.2.0",
      "_view_name": "StyleView",
      "description_width": ""
     }
    },
    "8d9c585004e349b081d9c7a8d8c4accf": {
     "model_module": "@jupyter-widgets/controls",
     "model_name": "HBoxModel",
     "model_module_version": "1.5.0",
     "state": {
      "_dom_classes": [],
      "_model_module": "@jupyter-widgets/controls",
      "_model_module_version": "1.5.0",
      "_model_name": "HBoxModel",
      "_view_count": null,
      "_view_module": "@jupyter-widgets/controls",
      "_view_module_version": "1.5.0",
      "_view_name": "HBoxView",
      "box_style": "",
      "children": [
       "IPY_MODEL_110ba9dca9564a33bb895974cffcc597",
       "IPY_MODEL_fc9ec27df9a447098c669046b8deeb0b",
       "IPY_MODEL_eb9498ecc6ab48d08413c988e0b9696c"
      ],
      "layout": "IPY_MODEL_8fe19014ad854bfbabc9905d953f000b"
     }
    },
    "110ba9dca9564a33bb895974cffcc597": {
     "model_module": "@jupyter-widgets/controls",
     "model_name": "HTMLModel",
     "model_module_version": "1.5.0",
     "state": {
      "_dom_classes": [],
      "_model_module": "@jupyter-widgets/controls",
      "_model_module_version": "1.5.0",
      "_model_name": "HTMLModel",
      "_view_count": null,
      "_view_module": "@jupyter-widgets/controls",
      "_view_module_version": "1.5.0",
      "_view_name": "HTMLView",
      "description": "",
      "description_tooltip": null,
      "layout": "IPY_MODEL_cab9aa8be5f54f6d877984d0e16f3f17",
      "placeholder": "​",
      "style": "IPY_MODEL_f386250705a94a04b3a782a0bae2526e",
      "value": "100%"
     }
    },
    "fc9ec27df9a447098c669046b8deeb0b": {
     "model_module": "@jupyter-widgets/controls",
     "model_name": "FloatProgressModel",
     "model_module_version": "1.5.0",
     "state": {
      "_dom_classes": [],
      "_model_module": "@jupyter-widgets/controls",
      "_model_module_version": "1.5.0",
      "_model_name": "FloatProgressModel",
      "_view_count": null,
      "_view_module": "@jupyter-widgets/controls",
      "_view_module_version": "1.5.0",
      "_view_name": "ProgressView",
      "bar_style": "success",
      "description": "",
      "description_tooltip": null,
      "layout": "IPY_MODEL_2fc98c1f1afc4ee2b6c8d5729f501626",
      "max": 4542,
      "min": 0,
      "orientation": "horizontal",
      "style": "IPY_MODEL_c592543e51a24e0998eb26c996999958",
      "value": 4542
     }
    },
    "eb9498ecc6ab48d08413c988e0b9696c": {
     "model_module": "@jupyter-widgets/controls",
     "model_name": "HTMLModel",
     "model_module_version": "1.5.0",
     "state": {
      "_dom_classes": [],
      "_model_module": "@jupyter-widgets/controls",
      "_model_module_version": "1.5.0",
      "_model_name": "HTMLModel",
      "_view_count": null,
      "_view_module": "@jupyter-widgets/controls",
      "_view_module_version": "1.5.0",
      "_view_name": "HTMLView",
      "description": "",
      "description_tooltip": null,
      "layout": "IPY_MODEL_c651fb5b0719496b92c682be31a47390",
      "placeholder": "​",
      "style": "IPY_MODEL_e7f90b44baba4f21af22fc5a45b54add",
      "value": " 4542/4542 [00:00&lt;00:00, 98286.76it/s]"
     }
    },
    "8fe19014ad854bfbabc9905d953f000b": {
     "model_module": "@jupyter-widgets/base",
     "model_name": "LayoutModel",
     "model_module_version": "1.2.0",
     "state": {
      "_model_module": "@jupyter-widgets/base",
      "_model_module_version": "1.2.0",
      "_model_name": "LayoutModel",
      "_view_count": null,
      "_view_module": "@jupyter-widgets/base",
      "_view_module_version": "1.2.0",
      "_view_name": "LayoutView",
      "align_content": null,
      "align_items": null,
      "align_self": null,
      "border": null,
      "bottom": null,
      "display": null,
      "flex": null,
      "flex_flow": null,
      "grid_area": null,
      "grid_auto_columns": null,
      "grid_auto_flow": null,
      "grid_auto_rows": null,
      "grid_column": null,
      "grid_gap": null,
      "grid_row": null,
      "grid_template_areas": null,
      "grid_template_columns": null,
      "grid_template_rows": null,
      "height": null,
      "justify_content": null,
      "justify_items": null,
      "left": null,
      "margin": null,
      "max_height": null,
      "max_width": null,
      "min_height": null,
      "min_width": null,
      "object_fit": null,
      "object_position": null,
      "order": null,
      "overflow": null,
      "overflow_x": null,
      "overflow_y": null,
      "padding": null,
      "right": null,
      "top": null,
      "visibility": null,
      "width": null
     }
    },
    "cab9aa8be5f54f6d877984d0e16f3f17": {
     "model_module": "@jupyter-widgets/base",
     "model_name": "LayoutModel",
     "model_module_version": "1.2.0",
     "state": {
      "_model_module": "@jupyter-widgets/base",
      "_model_module_version": "1.2.0",
      "_model_name": "LayoutModel",
      "_view_count": null,
      "_view_module": "@jupyter-widgets/base",
      "_view_module_version": "1.2.0",
      "_view_name": "LayoutView",
      "align_content": null,
      "align_items": null,
      "align_self": null,
      "border": null,
      "bottom": null,
      "display": null,
      "flex": null,
      "flex_flow": null,
      "grid_area": null,
      "grid_auto_columns": null,
      "grid_auto_flow": null,
      "grid_auto_rows": null,
      "grid_column": null,
      "grid_gap": null,
      "grid_row": null,
      "grid_template_areas": null,
      "grid_template_columns": null,
      "grid_template_rows": null,
      "height": null,
      "justify_content": null,
      "justify_items": null,
      "left": null,
      "margin": null,
      "max_height": null,
      "max_width": null,
      "min_height": null,
      "min_width": null,
      "object_fit": null,
      "object_position": null,
      "order": null,
      "overflow": null,
      "overflow_x": null,
      "overflow_y": null,
      "padding": null,
      "right": null,
      "top": null,
      "visibility": null,
      "width": null
     }
    },
    "f386250705a94a04b3a782a0bae2526e": {
     "model_module": "@jupyter-widgets/controls",
     "model_name": "DescriptionStyleModel",
     "model_module_version": "1.5.0",
     "state": {
      "_model_module": "@jupyter-widgets/controls",
      "_model_module_version": "1.5.0",
      "_model_name": "DescriptionStyleModel",
      "_view_count": null,
      "_view_module": "@jupyter-widgets/base",
      "_view_module_version": "1.2.0",
      "_view_name": "StyleView",
      "description_width": ""
     }
    },
    "2fc98c1f1afc4ee2b6c8d5729f501626": {
     "model_module": "@jupyter-widgets/base",
     "model_name": "LayoutModel",
     "model_module_version": "1.2.0",
     "state": {
      "_model_module": "@jupyter-widgets/base",
      "_model_module_version": "1.2.0",
      "_model_name": "LayoutModel",
      "_view_count": null,
      "_view_module": "@jupyter-widgets/base",
      "_view_module_version": "1.2.0",
      "_view_name": "LayoutView",
      "align_content": null,
      "align_items": null,
      "align_self": null,
      "border": null,
      "bottom": null,
      "display": null,
      "flex": null,
      "flex_flow": null,
      "grid_area": null,
      "grid_auto_columns": null,
      "grid_auto_flow": null,
      "grid_auto_rows": null,
      "grid_column": null,
      "grid_gap": null,
      "grid_row": null,
      "grid_template_areas": null,
      "grid_template_columns": null,
      "grid_template_rows": null,
      "height": null,
      "justify_content": null,
      "justify_items": null,
      "left": null,
      "margin": null,
      "max_height": null,
      "max_width": null,
      "min_height": null,
      "min_width": null,
      "object_fit": null,
      "object_position": null,
      "order": null,
      "overflow": null,
      "overflow_x": null,
      "overflow_y": null,
      "padding": null,
      "right": null,
      "top": null,
      "visibility": null,
      "width": null
     }
    },
    "c592543e51a24e0998eb26c996999958": {
     "model_module": "@jupyter-widgets/controls",
     "model_name": "ProgressStyleModel",
     "model_module_version": "1.5.0",
     "state": {
      "_model_module": "@jupyter-widgets/controls",
      "_model_module_version": "1.5.0",
      "_model_name": "ProgressStyleModel",
      "_view_count": null,
      "_view_module": "@jupyter-widgets/base",
      "_view_module_version": "1.2.0",
      "_view_name": "StyleView",
      "bar_color": null,
      "description_width": ""
     }
    },
    "c651fb5b0719496b92c682be31a47390": {
     "model_module": "@jupyter-widgets/base",
     "model_name": "LayoutModel",
     "model_module_version": "1.2.0",
     "state": {
      "_model_module": "@jupyter-widgets/base",
      "_model_module_version": "1.2.0",
      "_model_name": "LayoutModel",
      "_view_count": null,
      "_view_module": "@jupyter-widgets/base",
      "_view_module_version": "1.2.0",
      "_view_name": "LayoutView",
      "align_content": null,
      "align_items": null,
      "align_self": null,
      "border": null,
      "bottom": null,
      "display": null,
      "flex": null,
      "flex_flow": null,
      "grid_area": null,
      "grid_auto_columns": null,
      "grid_auto_flow": null,
      "grid_auto_rows": null,
      "grid_column": null,
      "grid_gap": null,
      "grid_row": null,
      "grid_template_areas": null,
      "grid_template_columns": null,
      "grid_template_rows": null,
      "height": null,
      "justify_content": null,
      "justify_items": null,
      "left": null,
      "margin": null,
      "max_height": null,
      "max_width": null,
      "min_height": null,
      "min_width": null,
      "object_fit": null,
      "object_position": null,
      "order": null,
      "overflow": null,
      "overflow_x": null,
      "overflow_y": null,
      "padding": null,
      "right": null,
      "top": null,
      "visibility": null,
      "width": null
     }
    },
    "e7f90b44baba4f21af22fc5a45b54add": {
     "model_module": "@jupyter-widgets/controls",
     "model_name": "DescriptionStyleModel",
     "model_module_version": "1.5.0",
     "state": {
      "_model_module": "@jupyter-widgets/controls",
      "_model_module_version": "1.5.0",
      "_model_name": "DescriptionStyleModel",
      "_view_count": null,
      "_view_module": "@jupyter-widgets/base",
      "_view_module_version": "1.2.0",
      "_view_name": "StyleView",
      "description_width": ""
     }
    }
   }
  }
 },
 "nbformat": 4,
 "nbformat_minor": 0
}
