{
 "cells": [
  {
   "cell_type": "code",
   "execution_count": 15,
   "metadata": {
    "collapsed": true
   },
   "outputs": [],
   "source": [
    "import numpy as np\n",
    "import  matplotlib.pyplot as plt\n",
    "from random import random"
   ]
  },
  {
   "cell_type": "code",
   "execution_count": 2,
   "outputs": [
    {
     "name": "stdout",
     "output_type": "stream",
     "text": [
      "[0.4 1.4]\n",
      "Значения сумм на нейронах скрытого слоя: [0.4 1.4]\n",
      "Значения на выходах нейронов скрытого слоя: [0 1]\n",
      "Выходное значение НС: 1\n",
      "1\n",
      "Ты мне нравишься\n"
     ]
    }
   ],
   "source": [
    "def act(x):\n",
    "    return 0 if x < 0.5 else 1\n",
    "\n",
    "\n",
    "def go(house, rock, attr):\n",
    "    x = np.array([house, rock, attr])\n",
    "    w11 = [0.4, 0.3, 0]\n",
    "    w12 = [0.4, -0.5, 1]\n",
    "    weight1 = np.array([w11, w12])  # матрица 2x3\n",
    "    weight2 = np.array([-1, 1])  # вектор 1х3\n",
    "\n",
    "\n",
    "    sum_hidden = np.dot(weight1, x)  # вычисляем сумму на входах нейронов скрытого слоя\n",
    "    print(sum_hidden)\n",
    "    print(\"Значения сумм на нейронах скрытого слоя: \" + str(sum_hidden))\n",
    "\n",
    "    out_hidden = np.array([act(x) for x in sum_hidden])\n",
    "    print(\"Значения на выходах нейронов скрытого слоя: \" + str(out_hidden))\n",
    "\n",
    "    sum_end = np.dot(weight2, out_hidden)\n",
    "    y = act(sum_end)\n",
    "    print(\"Выходное значение НС: \" + str(y))\n",
    "\n",
    "    return y\n",
    "\n",
    "\n",
    "house = 1\n",
    "rock = 0\n",
    "attr = 1\n",
    "\n",
    "res = go(house, rock, attr)\n",
    "print(res)\n",
    "if res >= 1:\n",
    "    print(\"Ты мне нравишься\")\n",
    "else:\n",
    "    print(\"Созвонимся\")"
   ],
   "metadata": {
    "collapsed": false
   }
  },
  {
   "cell_type": "code",
   "execution_count": 40,
   "outputs": [],
   "source": [
    "N = 5\n",
    "b = 3\n",
    "x1 = np.random.random(N)"
   ],
   "metadata": {
    "collapsed": false
   }
  },
  {
   "cell_type": "code",
   "execution_count": 41,
   "outputs": [],
   "source": [
    "x2 = x1 + [random() for i in range(N)] + b"
   ],
   "metadata": {
    "collapsed": false
   }
  },
  {
   "cell_type": "code",
   "execution_count": 42,
   "outputs": [],
   "source": [
    "C1=[x1, x2]"
   ],
   "metadata": {
    "collapsed": false
   }
  },
  {
   "cell_type": "code",
   "execution_count": 17,
   "outputs": [
    {
     "data": {
      "text/plain": "array([1.05131375, 1.20043443, 1.16014392, 1.50385702, 1.17620467])"
     },
     "execution_count": 17,
     "metadata": {},
     "output_type": "execute_result"
    }
   ],
   "source": [
    "x2"
   ],
   "metadata": {
    "collapsed": false
   }
  },
  {
   "cell_type": "code",
   "execution_count": 43,
   "outputs": [],
   "source": [
    "x1 = np.random.random(N)\n",
    "x2 = x1 - [random() for i in range(N)] - 0.1 + b\n",
    "C2 = [x1, x2]"
   ],
   "metadata": {
    "collapsed": false
   }
  },
  {
   "cell_type": "code",
   "execution_count": 25,
   "outputs": [
    {
     "data": {
      "text/plain": "([array([0.13071479, 0.88315315, 0.77820587, 0.6206261 , 0.20223224]),\n  array([1.05131375, 1.20043443, 1.16014392, 1.50385702, 1.17620467])],\n [array([0.15868094, 0.66668734, 0.83028309, 0.44507238, 0.49841886]),\n  array([-0.06401685, -0.3269299 , -0.23792446,  0.21754457,  0.39669006])])"
     },
     "execution_count": 25,
     "metadata": {},
     "output_type": "execute_result"
    }
   ],
   "source": [
    "C1, C2"
   ],
   "metadata": {
    "collapsed": false
   }
  },
  {
   "cell_type": "code",
   "execution_count": 44,
   "outputs": [],
   "source": [
    "f = [0+b,1+b]"
   ],
   "metadata": {
    "collapsed": false
   }
  },
  {
   "cell_type": "code",
   "execution_count": 45,
   "outputs": [],
   "source": [
    "w2 = 0.5\n",
    "w3 = -b*w2"
   ],
   "metadata": {
    "collapsed": false
   }
  },
  {
   "cell_type": "code",
   "execution_count": 46,
   "outputs": [],
   "source": [
    "w = np.array([-w2, w2, w3])"
   ],
   "metadata": {
    "collapsed": false
   }
  },
  {
   "cell_type": "code",
   "execution_count": 51,
   "outputs": [
    {
     "name": "stdout",
     "output_type": "stream",
     "text": [
      "[0.17117497 3.93459876 1.        ]\n",
      "C1\n",
      "[0.23706508 3.65431986 1.        ]\n",
      "C1\n",
      "[0.41417716 3.57441589 1.        ]\n",
      "C1\n",
      "[0.34391874 3.45777271 1.        ]\n",
      "C1\n",
      "[0.77100558 4.2658104  1.        ]\n",
      "C1\n"
     ]
    }
   ],
   "source": [
    "for i in range(N):\n",
    "    x = np.array([C1[0][i], C1[1][i], 1])\n",
    "    print(x)\n",
    "    y = np.dot(w, x)\n",
    "    if y >= 0:\n",
    "        print('C1')\n",
    "    else: print('C2')"
   ],
   "metadata": {
    "collapsed": false
   }
  },
  {
   "cell_type": "code",
   "execution_count": 52,
   "outputs": [
    {
     "data": {
      "text/plain": "<Figure size 640x480 with 1 Axes>",
      "image/png": "[encoded data removed]"
     },
     "metadata": {},
     "output_type": "display_data"
    }
   ],
   "source": [
    "plt.scatter(C1[0][:], C1[1][:], s=10, c='red')\n",
    "plt.scatter(C2[0][:], C2[1][:], s=10, c='blue')\n",
    "plt.plot(f)\n",
    "plt.grid()\n",
    "plt.show()"
   ],
   "metadata": {
    "collapsed": false
   }
  },
  {
   "cell_type": "code",
   "execution_count": 53,
   "outputs": [],
   "source": [
    "def act(x):\n",
    "    return 0 if x <= 0 else 1"
   ],
   "metadata": {
    "collapsed": false
   }
  },
  {
   "cell_type": "code",
   "execution_count": 57,
   "outputs": [
    {
     "name": "stdout",
     "output_type": "stream",
     "text": [
      "1 1\n",
      "0 0\n"
     ]
    }
   ],
   "source": [
    "def go(C):\n",
    "    x = np.array([C[0], C[1], 1])\n",
    "    w1 = [1, 1, -1.5]\n",
    "    w2 = [1, 1, -0.5]\n",
    "    w_hidden = np.array([w1,w2])\n",
    "    w_out = np.array([-1, 1, -0.5])\n",
    "\n",
    "    sum = np.dot(w_hidden, x)\n",
    "    out = [act(x) for x in sum]\n",
    "    out.append(1)\n",
    "    out = np.array(out)\n",
    "\n",
    "    sum = np.dot(w_out, out)\n",
    "    y = act(sum)\n",
    "    return y\n",
    "\n",
    "C1 = [(1,0), (0,1)]\n",
    "C2 = [(0,0), (1,1)]\n",
    "print(go(C1[0]), go(C1[1]))\n",
    "print(go(C2[0]), go(C2[1]))"
   ],
   "metadata": {
    "collapsed": false
   }
  },
  {
   "cell_type": "code",
   "execution_count": null,
   "outputs": [],
   "source": [],
   "metadata": {
    "collapsed": false
   }
  }
 ],
 "metadata": {
  "kernelspec": {
   "display_name": "Python 3",
   "language": "python",
   "name": "python3"
  },
  "language_info": {
   "codemirror_mode": {
    "name": "ipython",
    "version": 2
   },
   "file_extension": ".py",
   "mimetype": "text/x-python",
   "name": "python",
   "nbconvert_exporter": "python",
   "pygments_lexer": "ipython2",
   "version": "2.7.6"
  }
 },
 "nbformat": 4,
 "nbformat_minor": 0
}
